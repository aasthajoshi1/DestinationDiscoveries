{
 "cells": [
  {
   "cell_type": "code",
   "execution_count": 1,
   "id": "fab793db-4042-4664-8b62-baa2051ef2ad",
   "metadata": {},
   "outputs": [],
   "source": [
    "import pandas as pd\n",
    "import numpy as np\n",
    "import matplotlib.pyplot as plt\n",
    "import seaborn as sns\n",
    "\n",
    "from sklearn.preprocessing import LabelEncoder,StandardScaler, OneHotEncoder\n",
    "from sklearn.model_selection import train_test_split\n",
    "from sklearn.ensemble import RandomForestClassifier, RandomForestRegressor\n",
    "from sklearn.metrics import classification_report, accuracy_score, mean_squared_error, r2_score, mean_absolute_error\n",
    "from sklearn.compose import ColumnTransformer\n",
    "from sklearn.neighbors import NearestNeighbors\n",
    "from sklearn.feature_extraction.text import TfidfVectorizer\n",
    "from sklearn.metrics.pairwise import cosine_similarity\n",
    "from sklearn.cluster import KMeans\n",
    "from sklearn.decomposition import PCA\n",
    "import warnings\n",
    "warnings.filterwarnings('ignore')"
   ]
  },
  {
   "cell_type": "code",
   "execution_count": 2,
   "id": "cf6e3dbe-7307-4f86-8e00-c0bcac2a88d3",
   "metadata": {
    "scrolled": true
   },
   "outputs": [
    {
     "data": {
      "text/html": [
       "<div>\n",
       "<style scoped>\n",
       "    .dataframe tbody tr th:only-of-type {\n",
       "        vertical-align: middle;\n",
       "    }\n",
       "\n",
       "    .dataframe tbody tr th {\n",
       "        vertical-align: top;\n",
       "    }\n",
       "\n",
       "    .dataframe thead th {\n",
       "        text-align: right;\n",
       "    }\n",
       "</style>\n",
       "<table border=\"1\" class=\"dataframe\">\n",
       "  <thead>\n",
       "    <tr style=\"text-align: right;\">\n",
       "      <th></th>\n",
       "      <th>Package Name</th>\n",
       "      <th>Page Url</th>\n",
       "      <th>Package Type</th>\n",
       "      <th>Company</th>\n",
       "      <th>Itinerary</th>\n",
       "      <th>Places Covered</th>\n",
       "      <th>Travel Date</th>\n",
       "      <th>Hotel Details</th>\n",
       "      <th>Start City</th>\n",
       "      <th>Airline</th>\n",
       "      <th>Onwards Return Flight Time</th>\n",
       "      <th>Price Per Two Persons</th>\n",
       "      <th>Per Person Price</th>\n",
       "      <th>Sightseeing Places Covered</th>\n",
       "      <th>Cancellation Rules</th>\n",
       "      <th>Traveling Days</th>\n",
       "      <th>Destination List</th>\n",
       "      <th>Destination Count</th>\n",
       "      <th>Flight Stops Encoded</th>\n",
       "    </tr>\n",
       "  </thead>\n",
       "  <tbody>\n",
       "    <tr>\n",
       "      <th>0</th>\n",
       "      <td>A Grand Week in North East - Lachung Special</td>\n",
       "      <td>https://holidayz.makemytrip.com/holidays/india...</td>\n",
       "      <td>Deluxe</td>\n",
       "      <td>Makemytrip</td>\n",
       "      <td>2N Gangtok . 2N Lachung . 1N Gangtok . 2N Darj...</td>\n",
       "      <td>Gangtok|Lachung|Gangtok|Darjeeling</td>\n",
       "      <td>02-10-2019</td>\n",
       "      <td>Lemon Tree Hotel  Gangtok:4.2|Summit Alpine Re...</td>\n",
       "      <td>New Delhi</td>\n",
       "      <td>IndiGo</td>\n",
       "      <td>14 : 00-16 : 05</td>\n",
       "      <td>71350</td>\n",
       "      <td>35675.0</td>\n",
       "      <td>Baba Mandir | MG Road - Walk | Visit to Lake ...</td>\n",
       "      <td>Cancellation any time after making the 1st pay...</td>\n",
       "      <td>7</td>\n",
       "      <td>Gangtok</td>\n",
       "      <td>1</td>\n",
       "      <td>2</td>\n",
       "    </tr>\n",
       "    <tr>\n",
       "      <th>1</th>\n",
       "      <td>A Grand Week in North East - Lachung Special</td>\n",
       "      <td>https://holidayz.makemytrip.com/holidays/india...</td>\n",
       "      <td>Deluxe</td>\n",
       "      <td>Makemytrip</td>\n",
       "      <td>2N Gangtok . 2N Lachung . 1N Gangtok . 2N Darj...</td>\n",
       "      <td>Gangtok|Lachung|Gangtok|Darjeeling</td>\n",
       "      <td>02-10-2019</td>\n",
       "      <td>Lemon Tree Hotel  Gangtok:4.2|Summit Alpine Re...</td>\n",
       "      <td>New Delhi</td>\n",
       "      <td>IndiGo</td>\n",
       "      <td>14 : 00-16 : 05</td>\n",
       "      <td>71350</td>\n",
       "      <td>35675.0</td>\n",
       "      <td>Baba Mandir | MG Road - Walk | Visit to Lake ...</td>\n",
       "      <td>Cancellation any time after making the 1st pay...</td>\n",
       "      <td>7</td>\n",
       "      <td>Lachung</td>\n",
       "      <td>1</td>\n",
       "      <td>2</td>\n",
       "    </tr>\n",
       "    <tr>\n",
       "      <th>2</th>\n",
       "      <td>A Grand Week in North East - Lachung Special</td>\n",
       "      <td>https://holidayz.makemytrip.com/holidays/india...</td>\n",
       "      <td>Deluxe</td>\n",
       "      <td>Makemytrip</td>\n",
       "      <td>2N Gangtok . 2N Lachung . 1N Gangtok . 2N Darj...</td>\n",
       "      <td>Gangtok|Lachung|Gangtok|Darjeeling</td>\n",
       "      <td>02-10-2019</td>\n",
       "      <td>Lemon Tree Hotel  Gangtok:4.2|Summit Alpine Re...</td>\n",
       "      <td>New Delhi</td>\n",
       "      <td>IndiGo</td>\n",
       "      <td>14 : 00-16 : 05</td>\n",
       "      <td>71350</td>\n",
       "      <td>35675.0</td>\n",
       "      <td>Baba Mandir | MG Road - Walk | Visit to Lake ...</td>\n",
       "      <td>Cancellation any time after making the 1st pay...</td>\n",
       "      <td>7</td>\n",
       "      <td>Gangtok</td>\n",
       "      <td>1</td>\n",
       "      <td>2</td>\n",
       "    </tr>\n",
       "    <tr>\n",
       "      <th>3</th>\n",
       "      <td>A Grand Week in North East - Lachung Special</td>\n",
       "      <td>https://holidayz.makemytrip.com/holidays/india...</td>\n",
       "      <td>Deluxe</td>\n",
       "      <td>Makemytrip</td>\n",
       "      <td>2N Gangtok . 2N Lachung . 1N Gangtok . 2N Darj...</td>\n",
       "      <td>Gangtok|Lachung|Gangtok|Darjeeling</td>\n",
       "      <td>02-10-2019</td>\n",
       "      <td>Lemon Tree Hotel  Gangtok:4.2|Summit Alpine Re...</td>\n",
       "      <td>New Delhi</td>\n",
       "      <td>IndiGo</td>\n",
       "      <td>14 : 00-16 : 05</td>\n",
       "      <td>71350</td>\n",
       "      <td>35675.0</td>\n",
       "      <td>Baba Mandir | MG Road - Walk | Visit to Lake ...</td>\n",
       "      <td>Cancellation any time after making the 1st pay...</td>\n",
       "      <td>7</td>\n",
       "      <td>Darjeeling</td>\n",
       "      <td>1</td>\n",
       "      <td>2</td>\n",
       "    </tr>\n",
       "    <tr>\n",
       "      <th>4</th>\n",
       "      <td>A Relaxing holiday to Kerala - Free Speed Boat...</td>\n",
       "      <td>https://holidayz.makemytrip.com/holidays/india...</td>\n",
       "      <td>Standard</td>\n",
       "      <td>Makemytrip</td>\n",
       "      <td>1N Cochin . 2N Munnar . 1N Thekkady . 1N Allep...</td>\n",
       "      <td>Cochin|Munnar|Thekkady|Allepey|Kovalam and Poovar</td>\n",
       "      <td>02-10-2019</td>\n",
       "      <td>Quality Airport Hotel:4.1|Hotel Hillview, Munn...</td>\n",
       "      <td>Mumbai</td>\n",
       "      <td>Spicejet|IndiGo</td>\n",
       "      <td>15 : 45-17 : 45|10 : 50-13 : 00</td>\n",
       "      <td>32864</td>\n",
       "      <td>16432.0</td>\n",
       "      <td>Dutch Palace | Jewish Synagogue | St. Francis...</td>\n",
       "      <td>Cancellation any time after making the 1st pay...</td>\n",
       "      <td>7</td>\n",
       "      <td>Cochin</td>\n",
       "      <td>1</td>\n",
       "      <td>2</td>\n",
       "    </tr>\n",
       "  </tbody>\n",
       "</table>\n",
       "</div>"
      ],
      "text/plain": [
       "                                        Package Name  \\\n",
       "0       A Grand Week in North East - Lachung Special   \n",
       "1       A Grand Week in North East - Lachung Special   \n",
       "2       A Grand Week in North East - Lachung Special   \n",
       "3       A Grand Week in North East - Lachung Special   \n",
       "4  A Relaxing holiday to Kerala - Free Speed Boat...   \n",
       "\n",
       "                                            Page Url Package Type     Company  \\\n",
       "0  https://holidayz.makemytrip.com/holidays/india...       Deluxe  Makemytrip   \n",
       "1  https://holidayz.makemytrip.com/holidays/india...       Deluxe  Makemytrip   \n",
       "2  https://holidayz.makemytrip.com/holidays/india...       Deluxe  Makemytrip   \n",
       "3  https://holidayz.makemytrip.com/holidays/india...       Deluxe  Makemytrip   \n",
       "4  https://holidayz.makemytrip.com/holidays/india...     Standard  Makemytrip   \n",
       "\n",
       "                                           Itinerary  \\\n",
       "0  2N Gangtok . 2N Lachung . 1N Gangtok . 2N Darj...   \n",
       "1  2N Gangtok . 2N Lachung . 1N Gangtok . 2N Darj...   \n",
       "2  2N Gangtok . 2N Lachung . 1N Gangtok . 2N Darj...   \n",
       "3  2N Gangtok . 2N Lachung . 1N Gangtok . 2N Darj...   \n",
       "4  1N Cochin . 2N Munnar . 1N Thekkady . 1N Allep...   \n",
       "\n",
       "                                      Places Covered Travel Date  \\\n",
       "0                 Gangtok|Lachung|Gangtok|Darjeeling  02-10-2019   \n",
       "1                 Gangtok|Lachung|Gangtok|Darjeeling  02-10-2019   \n",
       "2                 Gangtok|Lachung|Gangtok|Darjeeling  02-10-2019   \n",
       "3                 Gangtok|Lachung|Gangtok|Darjeeling  02-10-2019   \n",
       "4  Cochin|Munnar|Thekkady|Allepey|Kovalam and Poovar  02-10-2019   \n",
       "\n",
       "                                       Hotel Details Start City  \\\n",
       "0  Lemon Tree Hotel  Gangtok:4.2|Summit Alpine Re...  New Delhi   \n",
       "1  Lemon Tree Hotel  Gangtok:4.2|Summit Alpine Re...  New Delhi   \n",
       "2  Lemon Tree Hotel  Gangtok:4.2|Summit Alpine Re...  New Delhi   \n",
       "3  Lemon Tree Hotel  Gangtok:4.2|Summit Alpine Re...  New Delhi   \n",
       "4  Quality Airport Hotel:4.1|Hotel Hillview, Munn...     Mumbai   \n",
       "\n",
       "           Airline       Onwards Return Flight Time  Price Per Two Persons  \\\n",
       "0           IndiGo                  14 : 00-16 : 05                  71350   \n",
       "1           IndiGo                  14 : 00-16 : 05                  71350   \n",
       "2           IndiGo                  14 : 00-16 : 05                  71350   \n",
       "3           IndiGo                  14 : 00-16 : 05                  71350   \n",
       "4  Spicejet|IndiGo  15 : 45-17 : 45|10 : 50-13 : 00                  32864   \n",
       "\n",
       "   Per Person Price                         Sightseeing Places Covered  \\\n",
       "0           35675.0   Baba Mandir | MG Road - Walk | Visit to Lake ...   \n",
       "1           35675.0   Baba Mandir | MG Road - Walk | Visit to Lake ...   \n",
       "2           35675.0   Baba Mandir | MG Road - Walk | Visit to Lake ...   \n",
       "3           35675.0   Baba Mandir | MG Road - Walk | Visit to Lake ...   \n",
       "4           16432.0   Dutch Palace | Jewish Synagogue | St. Francis...   \n",
       "\n",
       "                                  Cancellation Rules  Traveling Days  \\\n",
       "0  Cancellation any time after making the 1st pay...               7   \n",
       "1  Cancellation any time after making the 1st pay...               7   \n",
       "2  Cancellation any time after making the 1st pay...               7   \n",
       "3  Cancellation any time after making the 1st pay...               7   \n",
       "4  Cancellation any time after making the 1st pay...               7   \n",
       "\n",
       "  Destination List  Destination Count  Flight Stops Encoded  \n",
       "0          Gangtok                  1                     2  \n",
       "1          Lachung                  1                     2  \n",
       "2          Gangtok                  1                     2  \n",
       "3       Darjeeling                  1                     2  \n",
       "4           Cochin                  1                     2  "
      ]
     },
     "execution_count": 2,
     "metadata": {},
     "output_type": "execute_result"
    }
   ],
   "source": [
    "df = pd.read_csv(\"C:/Users/Sit421/Desktop/final_final_travel_exploded.csv\", on_bad_lines='skip')\n",
    "df.head()"
   ]
  },
  {
   "cell_type": "code",
   "execution_count": 3,
   "id": "59a3a6bf-5918-4e91-bcc5-92154fe433cd",
   "metadata": {},
   "outputs": [
    {
     "data": {
      "text/plain": [
       "Index(['Package Name', 'Page Url', 'Package Type', 'Company', 'Itinerary',\n",
       "       'Places Covered', 'Travel Date', 'Hotel Details', 'Start City',\n",
       "       'Airline', 'Onwards Return Flight Time', 'Price Per Two Persons',\n",
       "       'Per Person Price', 'Sightseeing Places Covered', 'Cancellation Rules',\n",
       "       'Traveling Days', 'Destination List', 'Destination Count',\n",
       "       'Flight Stops Encoded'],\n",
       "      dtype='object')"
      ]
     },
     "execution_count": 3,
     "metadata": {},
     "output_type": "execute_result"
    }
   ],
   "source": [
    "df.columns"
   ]
  },
  {
   "cell_type": "code",
   "execution_count": 5,
   "id": "183f3b68-d023-4778-a3e4-6f4ac6f2fdf1",
   "metadata": {
    "scrolled": true
   },
   "outputs": [
    {
     "name": "stdout",
     "output_type": "stream",
     "text": [
      "      Destination List                                          Itinerary  \\\n",
      "0              Gangtok  2N Gangtok . 2N Lachung . 1N Gangtok . 2N Darj...   \n",
      "1              Lachung  2N Gangtok . 2N Lachung . 1N Gangtok . 2N Darj...   \n",
      "2              Gangtok  2N Gangtok . 2N Lachung . 1N Gangtok . 2N Darj...   \n",
      "3           Darjeeling  2N Gangtok . 2N Lachung . 1N Gangtok . 2N Darj...   \n",
      "4               Cochin  1N Cochin . 2N Munnar . 1N Thekkady . 1N Allep...   \n",
      "5               Munnar  1N Cochin . 2N Munnar . 1N Thekkady . 1N Allep...   \n",
      "6             Thekkady  1N Cochin . 2N Munnar . 1N Thekkady . 1N Allep...   \n",
      "7              Allepey  1N Cochin . 2N Munnar . 1N Thekkady . 1N Allep...   \n",
      "8   Kovalam and Poovar  1N Cochin . 2N Munnar . 1N Thekkady . 1N Allep...   \n",
      "9               Manali                                          3N Manali   \n",
      "10             Gulmarg             1N Gulmarg . 2N Pahalgam . 2N Srinagar   \n",
      "11            Pahalgam             1N Gulmarg . 2N Pahalgam . 2N Srinagar   \n",
      "12            Srinagar             1N Gulmarg . 2N Pahalgam . 2N Srinagar   \n",
      "13              Shimla  2N Shimla . 3N Manali . 2N Dharamshala . 2N Da...   \n",
      "14              Manali  2N Shimla . 3N Manali . 2N Dharamshala . 2N Da...   \n",
      "15         Dharamshala  2N Shimla . 3N Manali . 2N Dharamshala . 2N Da...   \n",
      "16           Dalhousie  2N Shimla . 3N Manali . 2N Dharamshala . 2N Da...   \n",
      "17          Chandigarh  2N Shimla . 3N Manali . 2N Dharamshala . 2N Da...   \n",
      "18            Srinagar  1N Srinagar . 2N Gulmarg . 2N Pahalgam . 2N Sr...   \n",
      "19             Gulmarg  1N Srinagar . 2N Gulmarg . 2N Pahalgam . 2N Sr...   \n",
      "\n",
      "   Package Type  \n",
      "0        Deluxe  \n",
      "1        Deluxe  \n",
      "2        Deluxe  \n",
      "3        Deluxe  \n",
      "4      Standard  \n",
      "5      Standard  \n",
      "6      Standard  \n",
      "7      Standard  \n",
      "8      Standard  \n",
      "9        Deluxe  \n",
      "10     Standard  \n",
      "11     Standard  \n",
      "12     Standard  \n",
      "13     Standard  \n",
      "14     Standard  \n",
      "15     Standard  \n",
      "16     Standard  \n",
      "17     Standard  \n",
      "18      Premium  \n",
      "19      Premium  \n"
     ]
    }
   ],
   "source": [
    "print(df[['Destination List', 'Itinerary', 'Package Type']].head(20))"
   ]
  },
  {
   "cell_type": "code",
   "execution_count": 6,
   "id": "916837a7-b234-4300-9bcf-cb48123fcf32",
   "metadata": {},
   "outputs": [
    {
     "name": "stdout",
     "output_type": "stream",
     "text": [
      "<class 'pandas.core.frame.DataFrame'>\n",
      "RangeIndex: 67883 entries, 0 to 67882\n",
      "Data columns (total 19 columns):\n",
      " #   Column                      Non-Null Count  Dtype  \n",
      "---  ------                      --------------  -----  \n",
      " 0   Package Name                67883 non-null  object \n",
      " 1   Page Url                    67883 non-null  object \n",
      " 2   Package Type                67883 non-null  object \n",
      " 3   Company                     67883 non-null  object \n",
      " 4   Itinerary                   67883 non-null  object \n",
      " 5   Places Covered              67883 non-null  object \n",
      " 6   Travel Date                 67883 non-null  object \n",
      " 7   Hotel Details               67883 non-null  object \n",
      " 8   Start City                  67883 non-null  object \n",
      " 9   Airline                     67883 non-null  object \n",
      " 10  Onwards Return Flight Time  67883 non-null  object \n",
      " 11  Price Per Two Persons       67883 non-null  int64  \n",
      " 12  Per Person Price            67883 non-null  float64\n",
      " 13  Sightseeing Places Covered  67883 non-null  object \n",
      " 14  Cancellation Rules          67883 non-null  object \n",
      " 15  Traveling Days              67883 non-null  int64  \n",
      " 16  Destination List            67883 non-null  object \n",
      " 17  Destination Count           67883 non-null  int64  \n",
      " 18  Flight Stops Encoded        67883 non-null  int64  \n",
      "dtypes: float64(1), int64(4), object(14)\n",
      "memory usage: 9.8+ MB\n"
     ]
    },
    {
     "data": {
      "text/plain": [
       "Package Name                  0\n",
       "Page Url                      0\n",
       "Package Type                  0\n",
       "Company                       0\n",
       "Itinerary                     0\n",
       "Places Covered                0\n",
       "Travel Date                   0\n",
       "Hotel Details                 0\n",
       "Start City                    0\n",
       "Airline                       0\n",
       "Onwards Return Flight Time    0\n",
       "Price Per Two Persons         0\n",
       "Per Person Price              0\n",
       "Sightseeing Places Covered    0\n",
       "Cancellation Rules            0\n",
       "Traveling Days                0\n",
       "Destination List              0\n",
       "Destination Count             0\n",
       "Flight Stops Encoded          0\n",
       "dtype: int64"
      ]
     },
     "execution_count": 6,
     "metadata": {},
     "output_type": "execute_result"
    }
   ],
   "source": [
    "df.info()\n",
    "df.describe()\n",
    "df.isnull().sum()"
   ]
  },
  {
   "cell_type": "code",
   "execution_count": 7,
   "id": "935b828f-2acf-4025-bbba-48af80530467",
   "metadata": {},
   "outputs": [
    {
     "data": {
      "text/plain": [
       "(67883, 19)"
      ]
     },
     "execution_count": 7,
     "metadata": {},
     "output_type": "execute_result"
    }
   ],
   "source": [
    "df.shape"
   ]
  },
  {
   "cell_type": "code",
   "execution_count": 9,
   "id": "a9c18042-a0a4-4a0e-a997-9ae03f95c60f",
   "metadata": {},
   "outputs": [
    {
     "name": "stdout",
     "output_type": "stream",
     "text": [
      "\n",
      "Top 5 Travel Recommendations:\n",
      "\n",
      "  Destination List                                        Itinerary                                                                                     Hotel Details         Airline  Price Per Two Persons                                                                                            Sightseeing Places Covered\n",
      "         Kumarakom 2N Munnar . 2N Kumarakom . 2N Kovalam and Poovar                 Tea Village-MMT Holidays Special:3.4|Renai Green Fields:4.2|Poovar Island Resort: IndiGo|Spicejet                  33356  Mattupetty Dam | Tata Tea Museum | Pothamedu View Point | Eravikulam national park | Echo Point | Lakkam Waterfalls \n",
      "       Dharamshala      2N Dalhousie . 2N Dharamshala . 2N Amritsar Alps Resorts:4|Little Mastiff Dharamshala - Unit Of Pong View Hotel:3.9|Evoke Avaas Lifestyle:3.7   Go Air|IndiGo                  36835                                                                        Himachal - Convenience Value Pack - SUV - MMT \n",
      "         Dalhousie      2N Dalhousie . 2N Dharamshala . 2N Amritsar Alps Resorts:4|Little Mastiff Dharamshala - Unit Of Pong View Hotel:3.9|Evoke Avaas Lifestyle:3.7   Go Air|IndiGo                  36835                                                                        Himachal - Convenience Value Pack - SUV - MMT \n",
      "            Munnar 2N Munnar . 2N Kumarakom . 2N Kovalam and Poovar                 Tea Village-MMT Holidays Special:3.4|Renai Green Fields:4.2|Poovar Island Resort: IndiGo|Spicejet                  33356  Mattupetty Dam | Tata Tea Museum | Pothamedu View Point | Eravikulam national park | Echo Point | Lakkam Waterfalls \n",
      "Kovalam and Poovar 2N Munnar . 2N Kumarakom . 2N Kovalam and Poovar                 Tea Village-MMT Holidays Special:3.4|Renai Green Fields:4.2|Poovar Island Resort: IndiGo|Spicejet                  33356  Mattupetty Dam | Tata Tea Museum | Pothamedu View Point | Eravikulam national park | Echo Point | Lakkam Waterfalls \n"
     ]
    }
   ],
   "source": [
    "import pandas as pd\n",
    "from sklearn.neighbors import NearestNeighbors\n",
    "from sklearn.preprocessing import OneHotEncoder\n",
    "from sklearn.compose import ColumnTransformer\n",
    "from sklearn.pipeline import Pipeline\n",
    "\n",
    "# Step 2: Feature Engineering – Calculate travel days from itinerary\n",
    "def extract_travel_days(itinerary):\n",
    "    try:\n",
    "        return sum([int(part.strip().split()[0][:-1]) for part in itinerary.split('.') if part.strip()])\n",
    "    except:\n",
    "        return 0\n",
    "\n",
    "df[\"Traveling Days\"] = df[\"Itinerary\"].apply(extract_travel_days)\n",
    "\n",
    "# Step 3: Features for ML\n",
    "X = df[[\"Package Type\", \"Traveling Days\", \"Start City\"]]\n",
    "y = df[[\"Destination List\", \"Itinerary\", \"Hotel Details\", \"Airline\", \"Price Per Two Persons\", \"Sightseeing Places Covered\"]]\n",
    "\n",
    "# Step 4: Preprocessing\n",
    "categorical_cols = [\"Package Type\", \"Start City\"]\n",
    "numerical_cols = [\"Traveling Days\"]\n",
    "\n",
    "preprocessor = ColumnTransformer(transformers=[\n",
    "    (\"cat\", OneHotEncoder(handle_unknown='ignore', sparse_output=False), categorical_cols),\n",
    "    (\"num\", \"passthrough\", numerical_cols)\n",
    "])\n",
    "\n",
    "# Step 5: Transform the features\n",
    "X_transformed = preprocessor.fit_transform(X)\n",
    "\n",
    "# Step 6: Fit NearestNeighbors\n",
    "knn = NearestNeighbors(n_neighbors=5, metric='euclidean')\n",
    "knn.fit(X_transformed)\n",
    "\n",
    "# Step 7: Recommend function\n",
    "def recommend(package_type, days, start_city):\n",
    "    input_df = pd.DataFrame([{\n",
    "        \"Package Type\": package_type,\n",
    "        \"Traveling Days\": days,\n",
    "        \"Start City\": start_city\n",
    "    }])\n",
    "    \n",
    "    input_transformed = preprocessor.transform(input_df)\n",
    "    distances, indices = knn.kneighbors(input_transformed)\n",
    "\n",
    "    recommendations = y.iloc[indices[0]]\n",
    "    return recommendations.reset_index(drop=True)\n",
    "\n",
    "# Step 8: Try it out\n",
    "package_type = \"Deluxe\"\n",
    "travel_days = 6\n",
    "start_city = \"Mumbai\"\n",
    "\n",
    "recommendations = recommend(package_type, travel_days, start_city)\n",
    "\n",
    "print(\"\\nTop 5 Travel Recommendations:\\n\")\n",
    "print(recommendations.to_string(index=False))\n",
    "\n"
   ]
  },
  {
   "cell_type": "code",
   "execution_count": 10,
   "id": "8891a133-a8e3-4c4e-9533-eef88a276604",
   "metadata": {},
   "outputs": [
    {
     "data": {
      "image/png": "[encoded data removed]",
      "text/plain": [
       "<Figure size 1000x600 with 1 Axes>"
      ]
     },
     "metadata": {},
     "output_type": "display_data"
    }
   ],
   "source": [
    "# We'll count how often each destination appears\n",
    "top_dest = df[\"Destination List\"].value_counts().head(10)\n",
    "\n",
    "plt.figure(figsize=(10,6))\n",
    "sns.barplot(x=top_dest.values, y=top_dest.index, palette=\"magma\")\n",
    "plt.title(\"Top 10 Most Popular Destinations\")\n",
    "plt.xlabel(\"Number of Packages\")\n",
    "plt.ylabel(\"Destination\")\n",
    "plt.tight_layout()\n",
    "plt.show()\n"
   ]
  },
  {
   "cell_type": "code",
   "execution_count": 11,
   "id": "b007ddcb-60ce-457a-9883-0e07b0dd65b9",
   "metadata": {},
   "outputs": [
    {
     "data": {
      "image/png": "[encoded data removed]",
      "text/plain": [
       "<Figure size 1000x500 with 1 Axes>"
      ]
     },
     "metadata": {},
     "output_type": "display_data"
    }
   ],
   "source": [
    "plt.figure(figsize=(10,5))\n",
    "sns.countplot(data=df, y=\"Start City\", order=df[\"Start City\"].value_counts().index, palette=\"cubehelix\")\n",
    "plt.title(\"Packages by Start City\")\n",
    "plt.xlabel(\"Number of Packages\")\n",
    "plt.tight_layout()\n",
    "plt.show()"
   ]
  },
  {
   "cell_type": "code",
   "execution_count": 12,
   "id": "1fc8971a-6bc4-4512-b232-b2ee8e8b651c",
   "metadata": {},
   "outputs": [
    {
     "data": {
      "image/png": "[encoded data removed]",
      "text/plain": [
       "<Figure size 800x600 with 2 Axes>"
      ]
     },
     "metadata": {},
     "output_type": "display_data"
    }
   ],
   "source": [
    "# Pick only numeric columns\n",
    "numeric_cols = df.select_dtypes(include=[\"int64\", \"float64\"]).columns\n",
    "\n",
    "plt.figure(figsize=(8,6))\n",
    "sns.heatmap(df[numeric_cols].corr(), annot=True, cmap=\"Blues\")\n",
    "plt.title(\"Correlation Heatmap of Numeric Features\")\n",
    "plt.tight_layout()\n",
    "plt.show()\n"
   ]
  },
  {
   "cell_type": "code",
   "execution_count": 13,
   "id": "ae9127de-f772-46dd-a5fa-b6fd672e3461",
   "metadata": {},
   "outputs": [
    {
     "name": "stdout",
     "output_type": "stream",
     "text": [
      "   Flight Stops Encoded Start City          Airline Destination List  \\\n",
      "0                     2  New Delhi           IndiGo          Gangtok   \n",
      "1                     2  New Delhi           IndiGo          Lachung   \n",
      "2                     2  New Delhi           IndiGo          Gangtok   \n",
      "3                     2  New Delhi           IndiGo       Darjeeling   \n",
      "4                     2     Mumbai  Spicejet|IndiGo           Cochin   \n",
      "\n",
      "   Destination Count  \n",
      "0                  1  \n",
      "1                  1  \n",
      "2                  1  \n",
      "3                  1  \n",
      "4                  1  \n"
     ]
    }
   ],
   "source": [
    "print(df[['Flight Stops Encoded', 'Start City', 'Airline', 'Destination List', 'Destination Count' ]].head())"
   ]
  },
  {
   "cell_type": "code",
   "execution_count": 20,
   "id": "40e63c30-5b56-4b17-bfbf-2cc90a9e0e7c",
   "metadata": {},
   "outputs": [
    {
     "name": "stdout",
     "output_type": "stream",
     "text": [
      "🔄 Loading dataset...\n",
      "📊 Model Results:\n",
      "✅ RMSE: 25.51\n",
      "✅ R² Score: 1.0000\n",
      "💾 Model and columns saved.\n"
     ]
    }
   ],
   "source": [
    "import pandas as pd\n",
    "import numpy as np\n",
    "from sklearn.model_selection import train_test_split\n",
    "from sklearn.ensemble import RandomForestRegressor\n",
    "from sklearn.metrics import mean_squared_error, r2_score\n",
    "import pickle\n",
    "from sklearn.preprocessing import LabelEncoder\n",
    "\n",
    "print(\"🔄 Loading dataset...\")\n",
    "\n",
    "# Step 1: Read the dataset\n",
    "df = pd.read_csv(\"C:/Users/Sit421/Desktop/final_final_travel_exploded.csv\", on_bad_lines='skip')\n",
    "\n",
    "# Step 2: Clean column names\n",
    "df.columns = df.columns.str.strip()\n",
    "\n",
    "# Step 3: Drop rows with missing target\n",
    "target = 'Per Person Price'\n",
    "df = df.dropna(subset=[target])\n",
    "\n",
    "# Step 4: Fill missing values in other columns with 'Unknown'\n",
    "df = df.fillna('Unknown')\n",
    "\n",
    "# Step 5: Reduce the number of categories for high-cardinality categorical columns\n",
    "for col in df.select_dtypes(include='object').columns:\n",
    "    value_counts = df[col].value_counts()\n",
    "    # Limit categories to top 50 most frequent categories\n",
    "    top_categories = value_counts.head(50).index\n",
    "    df[col] = df[col].where(df[col].isin(top_categories), 'Other')\n",
    "\n",
    "# Step 6: Encode categorical columns using LabelEncoder\n",
    "label_encoders = {}\n",
    "for col in df.select_dtypes(include='object').columns:\n",
    "    le = LabelEncoder()\n",
    "    df[col] = le.fit_transform(df[col])\n",
    "    label_encoders[col] = le\n",
    "\n",
    "# Step 7: Features and target\n",
    "X = df.drop(columns=[target])\n",
    "y = df[target]\n",
    "\n",
    "# Step 8: Split the data into training and test sets\n",
    "X_train, X_test, y_train, y_test = train_test_split(X, y, test_size=0.2, random_state=42)\n",
    "\n",
    "# Step 9: Train the model\n",
    "model = RandomForestRegressor(random_state=42)\n",
    "model.fit(X_train, y_train)\n",
    "\n",
    "# Step 10: Make predictions\n",
    "y_pred = model.predict(X_test)\n",
    "\n",
    "# Step 11: Evaluate the model\n",
    "rmse = np.sqrt(mean_squared_error(y_test, y_pred))\n",
    "r2 = r2_score(y_test, y_pred)\n",
    "\n",
    "# Step 12: Save model and columns\n",
    "pickle.dump(model, open(\"travel_model.pkl\", \"wb\"))\n",
    "with open(\"model_columns.pkl\", \"wb\") as f:\n",
    "    pickle.dump(X.columns.tolist(), f)\n",
    "\n",
    "# Step 13: Print results\n",
    "print(\"📊 Model Results:\")\n",
    "print(f\"✅ RMSE: {rmse:.2f}\")\n",
    "print(f\"✅ R² Score: {r2:.4f}\")\n",
    "print(\"💾 Model and columns saved.\")\n"
   ]
  },
  {
   "cell_type": "code",
   "execution_count": 16,
   "id": "fccabd90-91c0-4bac-9515-f56a2237016a",
   "metadata": {},
   "outputs": [
    {
     "name": "stdout",
     "output_type": "stream",
     "text": [
      "Cross-validated RMSE: 136.53\n"
     ]
    }
   ],
   "source": [
    "from sklearn.model_selection import cross_val_score\n",
    "\n",
    "# Cross-validation to get a better idea of model's performance\n",
    "scores = cross_val_score(model, X, y, cv=5, scoring='neg_root_mean_squared_error')\n",
    "print(f\"Cross-validated RMSE: {-scores.mean():.2f}\")\n"
   ]
  },
  {
   "cell_type": "code",
   "execution_count": 19,
   "id": "43b4c283-8519-4a2e-a596-8f7e29230351",
   "metadata": {},
   "outputs": [
    {
     "name": "stdout",
     "output_type": "stream",
     "text": [
      "Gradient Boosting RMSE: 132.43\n",
      "Gradient Boosting R² Score: 0.9999\n"
     ]
    }
   ],
   "source": [
    "from sklearn.ensemble import GradientBoostingRegressor\n",
    "\n",
    "gb_model = GradientBoostingRegressor(random_state=42)\n",
    "gb_model.fit(X_train, y_train)\n",
    "gb_y_pred = gb_model.predict(X_test)\n",
    "\n",
    "gb_rmse = np.sqrt(mean_squared_error(y_test, gb_y_pred))\n",
    "gb_r2 = r2_score(y_test, gb_y_pred)\n",
    "\n",
    "print(f\"Gradient Boosting RMSE: {gb_rmse:.2f}\")\n",
    "print(f\"Gradient Boosting R² Score: {gb_r2:.4f}\")\n"
   ]
  },
  {
   "cell_type": "code",
   "execution_count": null,
   "id": "f670b110-76cd-4cbc-b270-4d3756f705af",
   "metadata": {},
   "outputs": [],
   "source": []
  }
 ],
 "metadata": {
  "kernelspec": {
   "display_name": "Python 3 (ipykernel)",
   "language": "python",
   "name": "python3"
  },
  "language_info": {
   "codemirror_mode": {
    "name": "ipython",
    "version": 3
   },
   "file_extension": ".py",
   "mimetype": "text/x-python",
   "name": "python",
   "nbconvert_exporter": "python",
   "pygments_lexer": "ipython3",
   "version": "3.10.0"
  }
 },
 "nbformat": 4,
 "nbformat_minor": 5
}
