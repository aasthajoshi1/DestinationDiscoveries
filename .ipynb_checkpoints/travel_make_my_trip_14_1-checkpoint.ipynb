{
 "cells": [
  {
   "cell_type": "code",
   "execution_count": 1,
   "id": "6f13aee6-426e-46e1-917b-1ac441b4d5a9",
   "metadata": {},
   "outputs": [],
   "source": [
    "import pandas as pd\n",
    "import numpy as np\n",
    "import matplotlib.pyplot as plt\n",
    "import seaborn as sns\n",
    "\n",
    "from sklearn.preprocessing import LabelEncoder,StandardScaler, OneHotEncoder\n",
    "from sklearn.model_selection import train_test_split\n",
    "from sklearn.ensemble import RandomForestClassifier, RandomForestRegressor\n",
    "from sklearn.metrics import classification_report, accuracy_score, mean_squared_error, r2_score, mean_absolute_error\n",
    "from sklearn.compose import ColumnTransformer\n",
    "from sklearn.neighbors import NearestNeighbors\n",
    "from sklearn.feature_extraction.text import TfidfVectorizer\n",
    "from sklearn.metrics.pairwise import cosine_similarity\n",
    "from sklearn.cluster import KMeans\n",
    "from sklearn.decomposition import PCA\n",
    "import warnings\n",
    "warnings.filterwarnings('ignore')"
   ]
  },
  {
   "cell_type": "code",
   "execution_count": 2,
   "id": "d6f45497-125e-4a81-9bdf-33de2f629194",
   "metadata": {},
   "outputs": [
    {
     "data": {
      "text/html": [
       "<div>\n",
       "<style scoped>\n",
       "    .dataframe tbody tr th:only-of-type {\n",
       "        vertical-align: middle;\n",
       "    }\n",
       "\n",
       "    .dataframe tbody tr th {\n",
       "        vertical-align: top;\n",
       "    }\n",
       "\n",
       "    .dataframe thead th {\n",
       "        text-align: right;\n",
       "    }\n",
       "</style>\n",
       "<table border=\"1\" class=\"dataframe\">\n",
       "  <thead>\n",
       "    <tr style=\"text-align: right;\">\n",
       "      <th></th>\n",
       "      <th>Uniq Id</th>\n",
       "      <th>Crawl Timestamp</th>\n",
       "      <th>Package Name</th>\n",
       "      <th>Page Url</th>\n",
       "      <th>Package Type</th>\n",
       "      <th>Company</th>\n",
       "      <th>Destination</th>\n",
       "      <th>Itinerary</th>\n",
       "      <th>Places Covered</th>\n",
       "      <th>Travel Date</th>\n",
       "      <th>...</th>\n",
       "      <th>Airline</th>\n",
       "      <th>Flight Stops</th>\n",
       "      <th>Onwards Return Flight Time</th>\n",
       "      <th>Meals</th>\n",
       "      <th>Price Per Two Persons</th>\n",
       "      <th>Per Person Price</th>\n",
       "      <th>Sightseeing Places Covered</th>\n",
       "      <th>Initial Payment For Booking</th>\n",
       "      <th>Cancellation Rules</th>\n",
       "      <th>Date Change Rules</th>\n",
       "    </tr>\n",
       "  </thead>\n",
       "  <tbody>\n",
       "    <tr>\n",
       "      <th>0</th>\n",
       "      <td>0eaaee0a8a6ba47cfc9f6e6852fcf9f0</td>\n",
       "      <td>2019-09-19 23:07:23 +0000</td>\n",
       "      <td>A Grand Week in North East - Lachung Special</td>\n",
       "      <td>https://holidayz.makemytrip.com/holidays/india...</td>\n",
       "      <td>Deluxe</td>\n",
       "      <td>Makemytrip</td>\n",
       "      <td>Gangtok|Lachung|Gangtok|Darjeeling</td>\n",
       "      <td>2N Gangtok . 2N Lachung . 1N Gangtok . 2N Darj...</td>\n",
       "      <td>Gangtok|Lachung|Gangtok|Darjeeling</td>\n",
       "      <td>02-10-2019</td>\n",
       "      <td>...</td>\n",
       "      <td>IndiGo</td>\n",
       "      <td>NaN</td>\n",
       "      <td>14 : 00-16 : 05</td>\n",
       "      <td>NaN</td>\n",
       "      <td>71350</td>\n",
       "      <td>35675.0</td>\n",
       "      <td>Baba Mandir | MG Road - Walk | Visit to Lake ...</td>\n",
       "      <td>NaN</td>\n",
       "      <td>Cancellation any time after making the 1st pay...</td>\n",
       "      <td>NaN</td>\n",
       "    </tr>\n",
       "    <tr>\n",
       "      <th>1</th>\n",
       "      <td>c782c902e6d370153361d708bb2bca64</td>\n",
       "      <td>2019-09-25 16:15:44 +0000</td>\n",
       "      <td>A Relaxing holiday to Kerala - Free Speed Boat...</td>\n",
       "      <td>https://holidayz.makemytrip.com/holidays/india...</td>\n",
       "      <td>Standard</td>\n",
       "      <td>Makemytrip</td>\n",
       "      <td>Cochin|Munnar|Thekkady|Allepey|Kovalam and Poovar</td>\n",
       "      <td>1N Cochin . 2N Munnar . 1N Thekkady . 1N Allep...</td>\n",
       "      <td>Cochin|Munnar|Thekkady|Allepey|Kovalam and Poovar</td>\n",
       "      <td>02-10-2019</td>\n",
       "      <td>...</td>\n",
       "      <td>Spicejet|IndiGo</td>\n",
       "      <td>NaN</td>\n",
       "      <td>15 : 45-17 : 45|10 : 50-13 : 00</td>\n",
       "      <td>NaN</td>\n",
       "      <td>32864</td>\n",
       "      <td>16432.0</td>\n",
       "      <td>Dutch Palace | Jewish Synagogue | St. Francis...</td>\n",
       "      <td>NaN</td>\n",
       "      <td>Cancellation any time after making the 1st pay...</td>\n",
       "      <td>NaN</td>\n",
       "    </tr>\n",
       "    <tr>\n",
       "      <th>2</th>\n",
       "      <td>1087ed9303d0ac724460088a5920065d</td>\n",
       "      <td>2019-09-26 04:18:42 +0000</td>\n",
       "      <td>Experiential Manali from Chandigarh (Candid Ph...</td>\n",
       "      <td>https://holidayz.makemytrip.com/holidays/india...</td>\n",
       "      <td>Deluxe</td>\n",
       "      <td>Makemytrip</td>\n",
       "      <td>Manali</td>\n",
       "      <td>3N Manali</td>\n",
       "      <td>Manali</td>\n",
       "      <td>24-10-2019</td>\n",
       "      <td>...</td>\n",
       "      <td>NaN</td>\n",
       "      <td>NaN</td>\n",
       "      <td>NaN</td>\n",
       "      <td>NaN</td>\n",
       "      <td>12045</td>\n",
       "      <td>6022.5</td>\n",
       "      <td>Vashishth Kund | Hadimba Temple | Tibetan Mon...</td>\n",
       "      <td>NaN</td>\n",
       "      <td>This cancellation policy is applicable for boo...</td>\n",
       "      <td>NaN</td>\n",
       "    </tr>\n",
       "    <tr>\n",
       "      <th>3</th>\n",
       "      <td>3bda4788836d573910f605154ba949dc</td>\n",
       "      <td>2019-09-24 11:46:20 +0000</td>\n",
       "      <td>Stunning Kashmir Holiday</td>\n",
       "      <td>https://holidayz.makemytrip.com/holidays/india...</td>\n",
       "      <td>Standard</td>\n",
       "      <td>Makemytrip</td>\n",
       "      <td>Gulmarg|Pahalgam|Srinagar</td>\n",
       "      <td>1N Gulmarg . 2N Pahalgam . 2N Srinagar</td>\n",
       "      <td>Gulmarg|Pahalgam|Srinagar</td>\n",
       "      <td>26-10-2019</td>\n",
       "      <td>...</td>\n",
       "      <td>IndiGo|IndiGo</td>\n",
       "      <td>NaN</td>\n",
       "      <td>06 : 30-09 : 10|12 : 45-14 : 20</td>\n",
       "      <td>NaN</td>\n",
       "      <td>31933</td>\n",
       "      <td>15966.5</td>\n",
       "      <td>Gondola Point | Avantipura Ruins | Mughal Gar...</td>\n",
       "      <td>NaN</td>\n",
       "      <td>Cancellation any time after making the 1st pay...</td>\n",
       "      <td>NaN</td>\n",
       "    </tr>\n",
       "    <tr>\n",
       "      <th>4</th>\n",
       "      <td>aab612682c998bde97e040b212cd5689</td>\n",
       "      <td>2019-09-25 12:45:50 +0000</td>\n",
       "      <td>Best of Holiday in Himachal from Chandigarh</td>\n",
       "      <td>https://holidayz.makemytrip.com/holidays/india...</td>\n",
       "      <td>Standard</td>\n",
       "      <td>Makemytrip</td>\n",
       "      <td>Shimla|Manali|Dharamshala|Dalhousie|Chandigarh</td>\n",
       "      <td>2N Shimla . 3N Manali . 2N Dharamshala . 2N Da...</td>\n",
       "      <td>Shimla|Manali|Dharamshala|Dalhousie|Chandigarh</td>\n",
       "      <td>13-10-2019</td>\n",
       "      <td>...</td>\n",
       "      <td>NaN</td>\n",
       "      <td>NaN</td>\n",
       "      <td>NaN</td>\n",
       "      <td>NaN</td>\n",
       "      <td>35725</td>\n",
       "      <td>17862.5</td>\n",
       "      <td>Pinjore Gardens | Mall road | Kufri | Indira ...</td>\n",
       "      <td>NaN</td>\n",
       "      <td>Cancellation any time after making the 1st pay...</td>\n",
       "      <td>NaN</td>\n",
       "    </tr>\n",
       "  </tbody>\n",
       "</table>\n",
       "<p>5 rows × 22 columns</p>\n",
       "</div>"
      ],
      "text/plain": [
       "                            Uniq Id            Crawl Timestamp  \\\n",
       "0  0eaaee0a8a6ba47cfc9f6e6852fcf9f0  2019-09-19 23:07:23 +0000   \n",
       "1  c782c902e6d370153361d708bb2bca64  2019-09-25 16:15:44 +0000   \n",
       "2  1087ed9303d0ac724460088a5920065d  2019-09-26 04:18:42 +0000   \n",
       "3  3bda4788836d573910f605154ba949dc  2019-09-24 11:46:20 +0000   \n",
       "4  aab612682c998bde97e040b212cd5689  2019-09-25 12:45:50 +0000   \n",
       "\n",
       "                                        Package Name  \\\n",
       "0       A Grand Week in North East - Lachung Special   \n",
       "1  A Relaxing holiday to Kerala - Free Speed Boat...   \n",
       "2  Experiential Manali from Chandigarh (Candid Ph...   \n",
       "3                           Stunning Kashmir Holiday   \n",
       "4        Best of Holiday in Himachal from Chandigarh   \n",
       "\n",
       "                                            Page Url Package Type     Company  \\\n",
       "0  https://holidayz.makemytrip.com/holidays/india...       Deluxe  Makemytrip   \n",
       "1  https://holidayz.makemytrip.com/holidays/india...     Standard  Makemytrip   \n",
       "2  https://holidayz.makemytrip.com/holidays/india...       Deluxe  Makemytrip   \n",
       "3  https://holidayz.makemytrip.com/holidays/india...     Standard  Makemytrip   \n",
       "4  https://holidayz.makemytrip.com/holidays/india...     Standard  Makemytrip   \n",
       "\n",
       "                                         Destination  \\\n",
       "0                 Gangtok|Lachung|Gangtok|Darjeeling   \n",
       "1  Cochin|Munnar|Thekkady|Allepey|Kovalam and Poovar   \n",
       "2                                             Manali   \n",
       "3                          Gulmarg|Pahalgam|Srinagar   \n",
       "4     Shimla|Manali|Dharamshala|Dalhousie|Chandigarh   \n",
       "\n",
       "                                           Itinerary  \\\n",
       "0  2N Gangtok . 2N Lachung . 1N Gangtok . 2N Darj...   \n",
       "1  1N Cochin . 2N Munnar . 1N Thekkady . 1N Allep...   \n",
       "2                                          3N Manali   \n",
       "3             1N Gulmarg . 2N Pahalgam . 2N Srinagar   \n",
       "4  2N Shimla . 3N Manali . 2N Dharamshala . 2N Da...   \n",
       "\n",
       "                                      Places Covered Travel Date  ...  \\\n",
       "0                 Gangtok|Lachung|Gangtok|Darjeeling  02-10-2019  ...   \n",
       "1  Cochin|Munnar|Thekkady|Allepey|Kovalam and Poovar  02-10-2019  ...   \n",
       "2                                             Manali  24-10-2019  ...   \n",
       "3                          Gulmarg|Pahalgam|Srinagar  26-10-2019  ...   \n",
       "4     Shimla|Manali|Dharamshala|Dalhousie|Chandigarh  13-10-2019  ...   \n",
       "\n",
       "           Airline Flight Stops       Onwards Return Flight Time  Meals  \\\n",
       "0           IndiGo          NaN                  14 : 00-16 : 05    NaN   \n",
       "1  Spicejet|IndiGo          NaN  15 : 45-17 : 45|10 : 50-13 : 00    NaN   \n",
       "2              NaN          NaN                              NaN    NaN   \n",
       "3    IndiGo|IndiGo          NaN  06 : 30-09 : 10|12 : 45-14 : 20    NaN   \n",
       "4              NaN          NaN                              NaN    NaN   \n",
       "\n",
       "  Price Per Two Persons  Per Person Price  \\\n",
       "0                 71350           35675.0   \n",
       "1                 32864           16432.0   \n",
       "2                 12045            6022.5   \n",
       "3                 31933           15966.5   \n",
       "4                 35725           17862.5   \n",
       "\n",
       "                          Sightseeing Places Covered  \\\n",
       "0   Baba Mandir | MG Road - Walk | Visit to Lake ...   \n",
       "1   Dutch Palace | Jewish Synagogue | St. Francis...   \n",
       "2   Vashishth Kund | Hadimba Temple | Tibetan Mon...   \n",
       "3   Gondola Point | Avantipura Ruins | Mughal Gar...   \n",
       "4   Pinjore Gardens | Mall road | Kufri | Indira ...   \n",
       "\n",
       "   Initial Payment For Booking  \\\n",
       "0                          NaN   \n",
       "1                          NaN   \n",
       "2                          NaN   \n",
       "3                          NaN   \n",
       "4                          NaN   \n",
       "\n",
       "                                  Cancellation Rules  Date Change Rules  \n",
       "0  Cancellation any time after making the 1st pay...                NaN  \n",
       "1  Cancellation any time after making the 1st pay...                NaN  \n",
       "2  This cancellation policy is applicable for boo...                NaN  \n",
       "3  Cancellation any time after making the 1st pay...                NaN  \n",
       "4  Cancellation any time after making the 1st pay...                NaN  \n",
       "\n",
       "[5 rows x 22 columns]"
      ]
     },
     "execution_count": 2,
     "metadata": {},
     "output_type": "execute_result"
    }
   ],
   "source": [
    "df = pd.read_csv(\"C:/Users/Sit421/Desktop/makemytrip.csv\", on_bad_lines='skip')\n",
    "df.head()"
   ]
  },
  {
   "cell_type": "code",
   "execution_count": 3,
   "id": "673dd6f8-c8e2-4af7-b9e1-0356b542dd4f",
   "metadata": {},
   "outputs": [],
   "source": [
    "df.drop(columns=['Uniq Id', 'Crawl Timestamp'], inplace=True)"
   ]
  },
  {
   "cell_type": "code",
   "execution_count": 4,
   "id": "cd881337-f31c-43f4-bb2d-c2eb6f828518",
   "metadata": {},
   "outputs": [
    {
     "data": {
      "text/plain": [
       "Index(['Package Name', 'Page Url', 'Package Type', 'Company', 'Destination',\n",
       "       'Itinerary', 'Places Covered', 'Travel Date', 'Hotel Details',\n",
       "       'Start City', 'Airline', 'Flight Stops', 'Onwards Return Flight Time',\n",
       "       'Meals', 'Price Per Two Persons', 'Per Person Price',\n",
       "       'Sightseeing Places Covered', 'Initial Payment For Booking',\n",
       "       'Cancellation Rules', 'Date Change Rules'],\n",
       "      dtype='object')"
      ]
     },
     "execution_count": 4,
     "metadata": {},
     "output_type": "execute_result"
    }
   ],
   "source": [
    "df.columns"
   ]
  },
  {
   "cell_type": "code",
   "execution_count": 5,
   "id": "95ef31c4-d8f6-4ae3-a363-382dbbe87903",
   "metadata": {
    "scrolled": true
   },
   "outputs": [
    {
     "name": "stdout",
     "output_type": "stream",
     "text": [
      "                                          Destination  \\\n",
      "0                  Gangtok|Lachung|Gangtok|Darjeeling   \n",
      "1   Cochin|Munnar|Thekkady|Allepey|Kovalam and Poovar   \n",
      "2                                              Manali   \n",
      "3                           Gulmarg|Pahalgam|Srinagar   \n",
      "4      Shimla|Manali|Dharamshala|Dalhousie|Chandigarh   \n",
      "5                  Srinagar|Gulmarg|Pahalgam|Srinagar   \n",
      "6                             Cochin|Thekkady|Allepey   \n",
      "7                                     Ooty|Kodaikanal   \n",
      "8                                         Dharamshala   \n",
      "9                                  Kodaikanal|Madurai   \n",
      "10                                               Bali   \n",
      "11                                  Mysore|Coorg|Ooty   \n",
      "12                                                Goa   \n",
      "13                             Ooty|Kodaikanal|Munnar   \n",
      "14                                         Makemytrip   \n",
      "15         Gangtok|Lachung|Gangtok|Pelling|Darjeeling   \n",
      "16                                         Makemytrip   \n",
      "17                                           Nainital   \n",
      "18                                         Coorg|Ooty   \n",
      "19                             Jaipur|Jodhpur|Udaipur   \n",
      "\n",
      "                                            Itinerary  \\\n",
      "0   2N Gangtok . 2N Lachung . 1N Gangtok . 2N Darj...   \n",
      "1   1N Cochin . 2N Munnar . 1N Thekkady . 1N Allep...   \n",
      "2                                           3N Manali   \n",
      "3              1N Gulmarg . 2N Pahalgam . 2N Srinagar   \n",
      "4   2N Shimla . 3N Manali . 2N Dharamshala . 2N Da...   \n",
      "5   1N Srinagar . 2N Gulmarg . 2N Pahalgam . 2N Sr...   \n",
      "6                1N Cochin . 2N Thekkady . 1N Allepey   \n",
      "7                             2N Ooty . 2N Kodaikanal   \n",
      "8                                      3N Dharamshala   \n",
      "9                          2N Kodaikanal . 1N Madurai   \n",
      "10                                            5N Bali   \n",
      "11                     1N Mysore . 2N Coorg . 2N Ooty   \n",
      "12                                             6N Goa   \n",
      "13                2N Ooty . 2N Kodaikanal . 2N Munnar   \n",
      "14                              Bentota|Kandy|Colombo   \n",
      "15  2N Gangtok . 2N Lachung . 1N Gangtok . 2N Pell...   \n",
      "16                                 Shillong|Kaziranga   \n",
      "17                                        2N Nainital   \n",
      "18                                 3N Coorg . 2N Ooty   \n",
      "19                2N Jaipur . 1N Jodhpur . 2N Udaipur   \n",
      "\n",
      "                                         Package Type  \n",
      "0                                              Deluxe  \n",
      "1                                            Standard  \n",
      "2                                              Deluxe  \n",
      "3                                            Standard  \n",
      "4                                            Standard  \n",
      "5                                             Premium  \n",
      "6                                            Standard  \n",
      "7                                            Standard  \n",
      "8                                              Deluxe  \n",
      "9                                             Premium  \n",
      "10                                             Deluxe  \n",
      "11                                            Premium  \n",
      "12                                             Luxury  \n",
      "13                                            Premium  \n",
      "14  https://holidayz.makemytrip.com/holidays/india...  \n",
      "15                                             Deluxe  \n",
      "16  https://holidayz.makemytrip.com/holidays/india...  \n",
      "17                                           Standard  \n",
      "18                                            Premium  \n",
      "19                                            Premium  \n"
     ]
    }
   ],
   "source": [
    "print(df[['Destination', 'Itinerary', 'Package Type']].head(20))\n"
   ]
  },
  {
   "cell_type": "code",
   "execution_count": 6,
   "id": "ed418de0-95dd-4ce9-be8c-22757addab3c",
   "metadata": {},
   "outputs": [],
   "source": [
    "import random\n",
    "# Define the list of package types\n",
    "package_types = [\"Budget\", \"Standard\", \"Deluxe\", \"Luxury\"]\n",
    "\n",
    "# Replace the entire 'Package Type' column with random choices\n",
    "df[\"Package Type\"] = [random.choice(package_types) for _ in range(len(df))]\n"
   ]
  },
  {
   "cell_type": "code",
   "execution_count": 7,
   "id": "00113614-ffec-4c03-a6c4-1b44473b5cdc",
   "metadata": {},
   "outputs": [
    {
     "name": "stdout",
     "output_type": "stream",
     "text": [
      "   Package Type\n",
      "0        Budget\n",
      "1        Deluxe\n",
      "2        Luxury\n",
      "3        Luxury\n",
      "4        Luxury\n",
      "5      Standard\n",
      "6        Deluxe\n",
      "7        Luxury\n",
      "8        Budget\n",
      "9        Budget\n",
      "10       Budget\n",
      "11     Standard\n",
      "12       Luxury\n",
      "13     Standard\n",
      "14       Budget\n",
      "15       Luxury\n",
      "16     Standard\n",
      "17       Deluxe\n",
      "18       Luxury\n",
      "19       Luxury\n"
     ]
    }
   ],
   "source": [
    "print(df[['Package Type']].head(20))"
   ]
  },
  {
   "cell_type": "code",
   "execution_count": 8,
   "id": "3a3b08b0-0d83-4506-a45b-57066ea5d9ad",
   "metadata": {},
   "outputs": [
    {
     "name": "stdout",
     "output_type": "stream",
     "text": [
      "<class 'pandas.core.frame.DataFrame'>\n",
      "RangeIndex: 27454 entries, 0 to 27453\n",
      "Data columns (total 20 columns):\n",
      " #   Column                       Non-Null Count  Dtype  \n",
      "---  ------                       --------------  -----  \n",
      " 0   Package Name                 27454 non-null  object \n",
      " 1   Page Url                     27454 non-null  object \n",
      " 2   Package Type                 27454 non-null  object \n",
      " 3   Company                      27454 non-null  object \n",
      " 4   Destination                  27454 non-null  object \n",
      " 5   Itinerary                    27454 non-null  object \n",
      " 6   Places Covered               27454 non-null  object \n",
      " 7   Travel Date                  27454 non-null  object \n",
      " 8   Hotel Details                23287 non-null  object \n",
      " 9   Start City                   27454 non-null  object \n",
      " 10  Airline                      21301 non-null  object \n",
      " 11  Flight Stops                 0 non-null      float64\n",
      " 12  Onwards Return Flight Time   21301 non-null  object \n",
      " 13  Meals                        0 non-null      float64\n",
      " 14  Price Per Two Persons        27454 non-null  int64  \n",
      " 15  Per Person Price             27454 non-null  float64\n",
      " 16  Sightseeing Places Covered   25327 non-null  object \n",
      " 17  Initial Payment For Booking  0 non-null      float64\n",
      " 18  Cancellation Rules           26316 non-null  object \n",
      " 19  Date Change Rules            0 non-null      float64\n",
      "dtypes: float64(5), int64(1), object(14)\n",
      "memory usage: 4.2+ MB\n"
     ]
    },
    {
     "data": {
      "text/plain": [
       "Package Name                       0\n",
       "Page Url                           0\n",
       "Package Type                       0\n",
       "Company                            0\n",
       "Destination                        0\n",
       "Itinerary                          0\n",
       "Places Covered                     0\n",
       "Travel Date                        0\n",
       "Hotel Details                   4167\n",
       "Start City                         0\n",
       "Airline                         6153\n",
       "Flight Stops                   27454\n",
       "Onwards Return Flight Time      6153\n",
       "Meals                          27454\n",
       "Price Per Two Persons              0\n",
       "Per Person Price                   0\n",
       "Sightseeing Places Covered      2127\n",
       "Initial Payment For Booking    27454\n",
       "Cancellation Rules              1138\n",
       "Date Change Rules              27454\n",
       "dtype: int64"
      ]
     },
     "execution_count": 8,
     "metadata": {},
     "output_type": "execute_result"
    }
   ],
   "source": [
    "df.info()\n",
    "df.describe()\n",
    "df.isnull().sum()\n"
   ]
  },
  {
   "cell_type": "code",
   "execution_count": 9,
   "id": "01ff8139-31ff-4ae1-b637-e11861153d1a",
   "metadata": {},
   "outputs": [],
   "source": [
    "df = df.copy()  # Make sure you're working with a fresh copy\n",
    "\n",
    "df.fillna({\n",
    "    'Hotel Details': \"Not mentioned\",\n",
    "    'Airline': \"Not included\",\n",
    "    'Onwards Return Flight Time': \"Not applicable\",\n",
    "    'Sightseeing Places Covered': \"No details\",\n",
    "    'Cancellation Rules': \"No info\"\n",
    "}, inplace=True)\n"
   ]
  },
  {
   "cell_type": "code",
   "execution_count": 10,
   "id": "c047216f-eac1-4074-895a-dd381e3676d7",
   "metadata": {},
   "outputs": [],
   "source": [
    "df.drop(columns=['Meals','Initial Payment For Booking', 'Date Change Rules'], inplace=True)\n"
   ]
  },
  {
   "cell_type": "code",
   "execution_count": 11,
   "id": "cf83a5bb-f6eb-4bc5-be7f-94f46a6e7684",
   "metadata": {},
   "outputs": [
    {
     "data": {
      "text/plain": [
       "Package Name                      0\n",
       "Page Url                          0\n",
       "Package Type                      0\n",
       "Company                           0\n",
       "Destination                       0\n",
       "Itinerary                         0\n",
       "Places Covered                    0\n",
       "Travel Date                       0\n",
       "Hotel Details                     0\n",
       "Start City                        0\n",
       "Airline                           0\n",
       "Flight Stops                  27454\n",
       "Onwards Return Flight Time        0\n",
       "Price Per Two Persons             0\n",
       "Per Person Price                  0\n",
       "Sightseeing Places Covered        0\n",
       "Cancellation Rules                0\n",
       "dtype: int64"
      ]
     },
     "execution_count": 11,
     "metadata": {},
     "output_type": "execute_result"
    }
   ],
   "source": [
    "df.isnull().sum()\n"
   ]
  },
  {
   "cell_type": "code",
   "execution_count": 12,
   "id": "c947276d-7540-422a-8cb2-4f082b98d730",
   "metadata": {},
   "outputs": [
    {
     "data": {
      "text/html": [
       "<div>\n",
       "<style scoped>\n",
       "    .dataframe tbody tr th:only-of-type {\n",
       "        vertical-align: middle;\n",
       "    }\n",
       "\n",
       "    .dataframe tbody tr th {\n",
       "        vertical-align: top;\n",
       "    }\n",
       "\n",
       "    .dataframe thead th {\n",
       "        text-align: right;\n",
       "    }\n",
       "</style>\n",
       "<table border=\"1\" class=\"dataframe\">\n",
       "  <thead>\n",
       "    <tr style=\"text-align: right;\">\n",
       "      <th></th>\n",
       "      <th>Package Name</th>\n",
       "      <th>Page Url</th>\n",
       "      <th>Package Type</th>\n",
       "      <th>Company</th>\n",
       "      <th>Destination</th>\n",
       "      <th>Itinerary</th>\n",
       "      <th>Places Covered</th>\n",
       "      <th>Travel Date</th>\n",
       "      <th>Hotel Details</th>\n",
       "      <th>Start City</th>\n",
       "      <th>Airline</th>\n",
       "      <th>Flight Stops</th>\n",
       "      <th>Onwards Return Flight Time</th>\n",
       "      <th>Price Per Two Persons</th>\n",
       "      <th>Per Person Price</th>\n",
       "      <th>Sightseeing Places Covered</th>\n",
       "      <th>Cancellation Rules</th>\n",
       "    </tr>\n",
       "  </thead>\n",
       "  <tbody>\n",
       "    <tr>\n",
       "      <th>0</th>\n",
       "      <td>A Grand Week in North East - Lachung Special</td>\n",
       "      <td>https://holidayz.makemytrip.com/holidays/india...</td>\n",
       "      <td>Budget</td>\n",
       "      <td>Makemytrip</td>\n",
       "      <td>Gangtok|Lachung|Gangtok|Darjeeling</td>\n",
       "      <td>2N Gangtok . 2N Lachung . 1N Gangtok . 2N Darj...</td>\n",
       "      <td>Gangtok|Lachung|Gangtok|Darjeeling</td>\n",
       "      <td>02-10-2019</td>\n",
       "      <td>Lemon Tree Hotel  Gangtok:4.2|Summit Alpine Re...</td>\n",
       "      <td>New Delhi</td>\n",
       "      <td>IndiGo</td>\n",
       "      <td>NaN</td>\n",
       "      <td>14 : 00-16 : 05</td>\n",
       "      <td>71350</td>\n",
       "      <td>35675.0</td>\n",
       "      <td>Baba Mandir | MG Road - Walk | Visit to Lake ...</td>\n",
       "      <td>Cancellation any time after making the 1st pay...</td>\n",
       "    </tr>\n",
       "    <tr>\n",
       "      <th>1</th>\n",
       "      <td>A Relaxing holiday to Kerala - Free Speed Boat...</td>\n",
       "      <td>https://holidayz.makemytrip.com/holidays/india...</td>\n",
       "      <td>Deluxe</td>\n",
       "      <td>Makemytrip</td>\n",
       "      <td>Cochin|Munnar|Thekkady|Allepey|Kovalam and Poovar</td>\n",
       "      <td>1N Cochin . 2N Munnar . 1N Thekkady . 1N Allep...</td>\n",
       "      <td>Cochin|Munnar|Thekkady|Allepey|Kovalam and Poovar</td>\n",
       "      <td>02-10-2019</td>\n",
       "      <td>Quality Airport Hotel:4.1|Hotel Hillview, Munn...</td>\n",
       "      <td>Mumbai</td>\n",
       "      <td>Spicejet|IndiGo</td>\n",
       "      <td>NaN</td>\n",
       "      <td>15 : 45-17 : 45|10 : 50-13 : 00</td>\n",
       "      <td>32864</td>\n",
       "      <td>16432.0</td>\n",
       "      <td>Dutch Palace | Jewish Synagogue | St. Francis...</td>\n",
       "      <td>Cancellation any time after making the 1st pay...</td>\n",
       "    </tr>\n",
       "    <tr>\n",
       "      <th>2</th>\n",
       "      <td>Experiential Manali from Chandigarh (Candid Ph...</td>\n",
       "      <td>https://holidayz.makemytrip.com/holidays/india...</td>\n",
       "      <td>Luxury</td>\n",
       "      <td>Makemytrip</td>\n",
       "      <td>Manali</td>\n",
       "      <td>3N Manali</td>\n",
       "      <td>Manali</td>\n",
       "      <td>24-10-2019</td>\n",
       "      <td>Not mentioned</td>\n",
       "      <td>Mumbai</td>\n",
       "      <td>Not included</td>\n",
       "      <td>NaN</td>\n",
       "      <td>Not applicable</td>\n",
       "      <td>12045</td>\n",
       "      <td>6022.5</td>\n",
       "      <td>Vashishth Kund | Hadimba Temple | Tibetan Mon...</td>\n",
       "      <td>This cancellation policy is applicable for boo...</td>\n",
       "    </tr>\n",
       "    <tr>\n",
       "      <th>3</th>\n",
       "      <td>Stunning Kashmir Holiday</td>\n",
       "      <td>https://holidayz.makemytrip.com/holidays/india...</td>\n",
       "      <td>Luxury</td>\n",
       "      <td>Makemytrip</td>\n",
       "      <td>Gulmarg|Pahalgam|Srinagar</td>\n",
       "      <td>1N Gulmarg . 2N Pahalgam . 2N Srinagar</td>\n",
       "      <td>Gulmarg|Pahalgam|Srinagar</td>\n",
       "      <td>26-10-2019</td>\n",
       "      <td>Alpine Ridge:3.4|Hotel Hilltop:3.6|The Pride I...</td>\n",
       "      <td>New Delhi</td>\n",
       "      <td>IndiGo|IndiGo</td>\n",
       "      <td>NaN</td>\n",
       "      <td>06 : 30-09 : 10|12 : 45-14 : 20</td>\n",
       "      <td>31933</td>\n",
       "      <td>15966.5</td>\n",
       "      <td>Gondola Point | Avantipura Ruins | Mughal Gar...</td>\n",
       "      <td>Cancellation any time after making the 1st pay...</td>\n",
       "    </tr>\n",
       "    <tr>\n",
       "      <th>4</th>\n",
       "      <td>Best of Holiday in Himachal from Chandigarh</td>\n",
       "      <td>https://holidayz.makemytrip.com/holidays/india...</td>\n",
       "      <td>Luxury</td>\n",
       "      <td>Makemytrip</td>\n",
       "      <td>Shimla|Manali|Dharamshala|Dalhousie|Chandigarh</td>\n",
       "      <td>2N Shimla . 3N Manali . 2N Dharamshala . 2N Da...</td>\n",
       "      <td>Shimla|Manali|Dharamshala|Dalhousie|Chandigarh</td>\n",
       "      <td>13-10-2019</td>\n",
       "      <td>Not mentioned</td>\n",
       "      <td>Mumbai</td>\n",
       "      <td>Not included</td>\n",
       "      <td>NaN</td>\n",
       "      <td>Not applicable</td>\n",
       "      <td>35725</td>\n",
       "      <td>17862.5</td>\n",
       "      <td>Pinjore Gardens | Mall road | Kufri | Indira ...</td>\n",
       "      <td>Cancellation any time after making the 1st pay...</td>\n",
       "    </tr>\n",
       "  </tbody>\n",
       "</table>\n",
       "</div>"
      ],
      "text/plain": [
       "                                        Package Name  \\\n",
       "0       A Grand Week in North East - Lachung Special   \n",
       "1  A Relaxing holiday to Kerala - Free Speed Boat...   \n",
       "2  Experiential Manali from Chandigarh (Candid Ph...   \n",
       "3                           Stunning Kashmir Holiday   \n",
       "4        Best of Holiday in Himachal from Chandigarh   \n",
       "\n",
       "                                            Page Url Package Type     Company  \\\n",
       "0  https://holidayz.makemytrip.com/holidays/india...       Budget  Makemytrip   \n",
       "1  https://holidayz.makemytrip.com/holidays/india...       Deluxe  Makemytrip   \n",
       "2  https://holidayz.makemytrip.com/holidays/india...       Luxury  Makemytrip   \n",
       "3  https://holidayz.makemytrip.com/holidays/india...       Luxury  Makemytrip   \n",
       "4  https://holidayz.makemytrip.com/holidays/india...       Luxury  Makemytrip   \n",
       "\n",
       "                                         Destination  \\\n",
       "0                 Gangtok|Lachung|Gangtok|Darjeeling   \n",
       "1  Cochin|Munnar|Thekkady|Allepey|Kovalam and Poovar   \n",
       "2                                             Manali   \n",
       "3                          Gulmarg|Pahalgam|Srinagar   \n",
       "4     Shimla|Manali|Dharamshala|Dalhousie|Chandigarh   \n",
       "\n",
       "                                           Itinerary  \\\n",
       "0  2N Gangtok . 2N Lachung . 1N Gangtok . 2N Darj...   \n",
       "1  1N Cochin . 2N Munnar . 1N Thekkady . 1N Allep...   \n",
       "2                                          3N Manali   \n",
       "3             1N Gulmarg . 2N Pahalgam . 2N Srinagar   \n",
       "4  2N Shimla . 3N Manali . 2N Dharamshala . 2N Da...   \n",
       "\n",
       "                                      Places Covered Travel Date  \\\n",
       "0                 Gangtok|Lachung|Gangtok|Darjeeling  02-10-2019   \n",
       "1  Cochin|Munnar|Thekkady|Allepey|Kovalam and Poovar  02-10-2019   \n",
       "2                                             Manali  24-10-2019   \n",
       "3                          Gulmarg|Pahalgam|Srinagar  26-10-2019   \n",
       "4     Shimla|Manali|Dharamshala|Dalhousie|Chandigarh  13-10-2019   \n",
       "\n",
       "                                       Hotel Details Start City  \\\n",
       "0  Lemon Tree Hotel  Gangtok:4.2|Summit Alpine Re...  New Delhi   \n",
       "1  Quality Airport Hotel:4.1|Hotel Hillview, Munn...     Mumbai   \n",
       "2                                      Not mentioned     Mumbai   \n",
       "3  Alpine Ridge:3.4|Hotel Hilltop:3.6|The Pride I...  New Delhi   \n",
       "4                                      Not mentioned     Mumbai   \n",
       "\n",
       "           Airline  Flight Stops       Onwards Return Flight Time  \\\n",
       "0           IndiGo           NaN                  14 : 00-16 : 05   \n",
       "1  Spicejet|IndiGo           NaN  15 : 45-17 : 45|10 : 50-13 : 00   \n",
       "2     Not included           NaN                   Not applicable   \n",
       "3    IndiGo|IndiGo           NaN  06 : 30-09 : 10|12 : 45-14 : 20   \n",
       "4     Not included           NaN                   Not applicable   \n",
       "\n",
       "   Price Per Two Persons  Per Person Price  \\\n",
       "0                  71350           35675.0   \n",
       "1                  32864           16432.0   \n",
       "2                  12045            6022.5   \n",
       "3                  31933           15966.5   \n",
       "4                  35725           17862.5   \n",
       "\n",
       "                          Sightseeing Places Covered  \\\n",
       "0   Baba Mandir | MG Road - Walk | Visit to Lake ...   \n",
       "1   Dutch Palace | Jewish Synagogue | St. Francis...   \n",
       "2   Vashishth Kund | Hadimba Temple | Tibetan Mon...   \n",
       "3   Gondola Point | Avantipura Ruins | Mughal Gar...   \n",
       "4   Pinjore Gardens | Mall road | Kufri | Indira ...   \n",
       "\n",
       "                                  Cancellation Rules  \n",
       "0  Cancellation any time after making the 1st pay...  \n",
       "1  Cancellation any time after making the 1st pay...  \n",
       "2  This cancellation policy is applicable for boo...  \n",
       "3  Cancellation any time after making the 1st pay...  \n",
       "4  Cancellation any time after making the 1st pay...  "
      ]
     },
     "execution_count": 12,
     "metadata": {},
     "output_type": "execute_result"
    }
   ],
   "source": [
    "df.head()"
   ]
  },
  {
   "cell_type": "code",
   "execution_count": 13,
   "id": "d26f7eaf-a141-416c-a239-f581db280672",
   "metadata": {},
   "outputs": [
    {
     "data": {
      "text/plain": [
       "(27454, 17)"
      ]
     },
     "execution_count": 13,
     "metadata": {},
     "output_type": "execute_result"
    }
   ],
   "source": [
    "df.shape"
   ]
  },
  {
   "cell_type": "code",
   "execution_count": 14,
   "id": "25618b7c-b6ec-44dd-aa0e-203893bdfb6d",
   "metadata": {},
   "outputs": [
    {
     "data": {
      "text/plain": [
       "(27454, 17)"
      ]
     },
     "execution_count": 14,
     "metadata": {},
     "output_type": "execute_result"
    }
   ],
   "source": [
    "df.shape"
   ]
  },
  {
   "cell_type": "code",
   "execution_count": 15,
   "id": "0cca8de4-8661-4d00-89c0-2845fd22d3d4",
   "metadata": {},
   "outputs": [
    {
     "data": {
      "text/plain": [
       "Package Name                      0\n",
       "Page Url                          0\n",
       "Package Type                      0\n",
       "Company                           0\n",
       "Destination                       0\n",
       "Itinerary                         0\n",
       "Places Covered                    0\n",
       "Travel Date                       0\n",
       "Hotel Details                     0\n",
       "Start City                        0\n",
       "Airline                           0\n",
       "Flight Stops                  27454\n",
       "Onwards Return Flight Time        0\n",
       "Price Per Two Persons             0\n",
       "Per Person Price                  0\n",
       "Sightseeing Places Covered        0\n",
       "Cancellation Rules                0\n",
       "dtype: int64"
      ]
     },
     "execution_count": 15,
     "metadata": {},
     "output_type": "execute_result"
    }
   ],
   "source": [
    "df.isnull().sum()"
   ]
  },
  {
   "cell_type": "code",
   "execution_count": 16,
   "id": "08644988-70ab-423f-b6d6-1404bb30da8c",
   "metadata": {},
   "outputs": [
    {
     "name": "stdout",
     "output_type": "stream",
     "text": [
      "\n",
      "Top 5 Travel Recommendations:\n",
      "\n",
      "                             Destination                                                  Itinerary                                                                                                                                                                                                Hotel Details                                         Airline  Price Per Two Persons                                                                                                                                                                                                                                                                                      Sightseeing Places Covered\n",
      "          Gangtok|Lachen|Lachung|Gangtok           1N Gangtok . 2N Lachen . 2N Lachung . 1N Gangtok Summit Namnang Courtyard & Spa, Gangtok-MMT Holidays Special:3.1|Delight Lachen Heritage:|Summit Alpine Resort, Lachung- MMT Holidays Special:|Summit Namnang Courtyard & Spa, Gangtok-MMT Holidays Special:                                   IndiGo|IndiGo                  46098                                                                                                                                                                                           Singhik View Point | Chungthang | Gurudongmar Lake | Chopta Valley | Yumthang Valley | Hot Spring | Lachen Monastery \n",
      "Cochin|Munnar|Allepey|Kovalam and Poovar 1N Cochin . 2N Munnar . 1N Allepey . 2N Kovalam and Poovar                                                                          Casino Hotel - Cgh Earth-MMT Holidays Special:4.5|Parakkat Nature Resorts:4.6|Marari Beach - CGH Earth:4.3|Estuary Sarovar Portico:                                        Spicejet                  48423                                                                                            Fort Cochin | Dutch Palace | Jewish Synagogue | St. Francis Church | Chinese Fishing Nets | Tata Tea Museum | Eravikulam national park | Mattupetty Dam | Echo Point | Backwaters | Zoological Park | Napier Museum \n",
      "                       Kuala Lumpur|Bali                                  2N Kuala Lumpur . 4N Bali                                                                                                                         Summit Hotel KL City Centre - MMT Special:4.0|Kuta Central Park Hotel - MMT Special: Malindo Air|Malindo Air|Malindo Air|Malindo Air                  77427                                                                                                                Day Trip to Genting Highlands with Lunch and Shared Transfers | Sunset Dinner Cruise in Bali on Seat in Coach basis - Bali Hai | Balinese Spa Session at Villa Jerami Spa with Shared Transfers \n",
      "              Gangtok|Pelling|Darjeeling                    2N Gangtok . 2N Pelling . 2N Darjeeling                                                                                                Mayfair Spa Resort & Casino:4.5|The Elgin Mount Pandim Hotel:4.2|Ramada by Wyndham Darjeeling Gandhi Road:4.4                                        Spicejet                  71373  Changu Lake - Excursion | Baba Mandir | Flower Exhibition | Do Drul | Namgayal Institute of Tibetology | Bhakthang Waterfall | Directorate of Handicrafts and Handloom | Helipad Viewpoint | Rimbi Waterfall | Darap Village | Kanchenjunga Falls | Khehopalri Lake | Pemayangtse Monastery | Rabdentse Ruins \n",
      "          Amritsar|Dalhousie|Dharamshala                2N Amritsar . 2N Dalhousie . 2N Dharamshala                                                                                                            Evoke Avaas Lifestyle:3.7|Alps Resorts:4|Little Mastiff Dharamshala - Unit Of Pong View Hotel:3.9                                   IndiGo|IndiGo                  49446                                                                                                                                                                                                                                                                                                      No details\n"
     ]
    }
   ],
   "source": [
    "import pandas as pd\n",
    "from sklearn.neighbors import NearestNeighbors\n",
    "from sklearn.preprocessing import OneHotEncoder\n",
    "from sklearn.compose import ColumnTransformer\n",
    "from sklearn.pipeline import Pipeline\n",
    "\n",
    "# Step 2: Feature Engineering – Calculate travel days from itinerary\n",
    "def extract_travel_days(itinerary):\n",
    "    try:\n",
    "        return sum([int(part.strip().split()[0][:-1]) for part in itinerary.split('.') if part.strip()])\n",
    "    except:\n",
    "        return 0\n",
    "\n",
    "df[\"Traveling Days\"] = df[\"Itinerary\"].apply(extract_travel_days)\n",
    "\n",
    "# Step 3: Features for ML\n",
    "X = df[[\"Package Type\", \"Traveling Days\", \"Start City\"]]\n",
    "y = df[[\"Destination\", \"Itinerary\", \"Hotel Details\", \"Airline\", \"Price Per Two Persons\", \"Sightseeing Places Covered\"]]\n",
    "\n",
    "# Step 4: Preprocessing\n",
    "categorical_cols = [\"Package Type\", \"Start City\"]\n",
    "numerical_cols = [\"Traveling Days\"]\n",
    "\n",
    "preprocessor = ColumnTransformer(transformers=[\n",
    "    (\"cat\", OneHotEncoder(handle_unknown='ignore', sparse_output=False), categorical_cols),\n",
    "    (\"num\", \"passthrough\", numerical_cols)\n",
    "])\n",
    "\n",
    "# Step 5: Transform the features\n",
    "X_transformed = preprocessor.fit_transform(X)\n",
    "\n",
    "# Step 6: Fit NearestNeighbors\n",
    "knn = NearestNeighbors(n_neighbors=5, metric='euclidean')\n",
    "knn.fit(X_transformed)\n",
    "\n",
    "# Step 7: Recommend function\n",
    "def recommend(package_type, days, start_city):\n",
    "    input_df = pd.DataFrame([{\n",
    "        \"Package Type\": package_type,\n",
    "        \"Traveling Days\": days,\n",
    "        \"Start City\": start_city\n",
    "    }])\n",
    "    \n",
    "    input_transformed = preprocessor.transform(input_df)\n",
    "    distances, indices = knn.kneighbors(input_transformed)\n",
    "\n",
    "    recommendations = y.iloc[indices[0]]\n",
    "    return recommendations.reset_index(drop=True)\n",
    "\n",
    "# Step 8: Try it out\n",
    "package_type = \"Deluxe\"\n",
    "travel_days = 6\n",
    "start_city = \"Mumbai\"\n",
    "\n",
    "recommendations = recommend(package_type, travel_days, start_city)\n",
    "\n",
    "print(\"\\nTop 5 Travel Recommendations:\\n\")\n",
    "print(recommendations.to_string(index=False))\n"
   ]
  },
  {
   "cell_type": "code",
   "execution_count": 17,
   "id": "4dfb2512-c9c2-4d3c-ba56-29747a6b9751",
   "metadata": {},
   "outputs": [
    {
     "data": {
      "text/plain": [
       "(27454, 18)"
      ]
     },
     "execution_count": 17,
     "metadata": {},
     "output_type": "execute_result"
    }
   ],
   "source": [
    "df.shape"
   ]
  },
  {
   "cell_type": "code",
   "execution_count": 18,
   "id": "2ae3e76d-e313-4ddf-8f8d-f9c6a7a9b1ea",
   "metadata": {},
   "outputs": [
    {
     "data": {
      "text/html": [
       "<div>\n",
       "<style scoped>\n",
       "    .dataframe tbody tr th:only-of-type {\n",
       "        vertical-align: middle;\n",
       "    }\n",
       "\n",
       "    .dataframe tbody tr th {\n",
       "        vertical-align: top;\n",
       "    }\n",
       "\n",
       "    .dataframe thead th {\n",
       "        text-align: right;\n",
       "    }\n",
       "</style>\n",
       "<table border=\"1\" class=\"dataframe\">\n",
       "  <thead>\n",
       "    <tr style=\"text-align: right;\">\n",
       "      <th></th>\n",
       "      <th>Package Name</th>\n",
       "      <th>Page Url</th>\n",
       "      <th>Package Type</th>\n",
       "      <th>Company</th>\n",
       "      <th>Destination</th>\n",
       "      <th>Itinerary</th>\n",
       "      <th>Places Covered</th>\n",
       "      <th>Travel Date</th>\n",
       "      <th>Hotel Details</th>\n",
       "      <th>Start City</th>\n",
       "      <th>Airline</th>\n",
       "      <th>Flight Stops</th>\n",
       "      <th>Onwards Return Flight Time</th>\n",
       "      <th>Price Per Two Persons</th>\n",
       "      <th>Per Person Price</th>\n",
       "      <th>Sightseeing Places Covered</th>\n",
       "      <th>Cancellation Rules</th>\n",
       "      <th>Traveling Days</th>\n",
       "    </tr>\n",
       "  </thead>\n",
       "  <tbody>\n",
       "    <tr>\n",
       "      <th>0</th>\n",
       "      <td>A Grand Week in North East - Lachung Special</td>\n",
       "      <td>https://holidayz.makemytrip.com/holidays/india...</td>\n",
       "      <td>Budget</td>\n",
       "      <td>Makemytrip</td>\n",
       "      <td>Gangtok|Lachung|Gangtok|Darjeeling</td>\n",
       "      <td>2N Gangtok . 2N Lachung . 1N Gangtok . 2N Darj...</td>\n",
       "      <td>Gangtok|Lachung|Gangtok|Darjeeling</td>\n",
       "      <td>02-10-2019</td>\n",
       "      <td>Lemon Tree Hotel  Gangtok:4.2|Summit Alpine Re...</td>\n",
       "      <td>New Delhi</td>\n",
       "      <td>IndiGo</td>\n",
       "      <td>NaN</td>\n",
       "      <td>14 : 00-16 : 05</td>\n",
       "      <td>71350</td>\n",
       "      <td>35675.0</td>\n",
       "      <td>Baba Mandir | MG Road - Walk | Visit to Lake ...</td>\n",
       "      <td>Cancellation any time after making the 1st pay...</td>\n",
       "      <td>7</td>\n",
       "    </tr>\n",
       "    <tr>\n",
       "      <th>1</th>\n",
       "      <td>A Relaxing holiday to Kerala - Free Speed Boat...</td>\n",
       "      <td>https://holidayz.makemytrip.com/holidays/india...</td>\n",
       "      <td>Deluxe</td>\n",
       "      <td>Makemytrip</td>\n",
       "      <td>Cochin|Munnar|Thekkady|Allepey|Kovalam and Poovar</td>\n",
       "      <td>1N Cochin . 2N Munnar . 1N Thekkady . 1N Allep...</td>\n",
       "      <td>Cochin|Munnar|Thekkady|Allepey|Kovalam and Poovar</td>\n",
       "      <td>02-10-2019</td>\n",
       "      <td>Quality Airport Hotel:4.1|Hotel Hillview, Munn...</td>\n",
       "      <td>Mumbai</td>\n",
       "      <td>Spicejet|IndiGo</td>\n",
       "      <td>NaN</td>\n",
       "      <td>15 : 45-17 : 45|10 : 50-13 : 00</td>\n",
       "      <td>32864</td>\n",
       "      <td>16432.0</td>\n",
       "      <td>Dutch Palace | Jewish Synagogue | St. Francis...</td>\n",
       "      <td>Cancellation any time after making the 1st pay...</td>\n",
       "      <td>7</td>\n",
       "    </tr>\n",
       "    <tr>\n",
       "      <th>2</th>\n",
       "      <td>Experiential Manali from Chandigarh (Candid Ph...</td>\n",
       "      <td>https://holidayz.makemytrip.com/holidays/india...</td>\n",
       "      <td>Luxury</td>\n",
       "      <td>Makemytrip</td>\n",
       "      <td>Manali</td>\n",
       "      <td>3N Manali</td>\n",
       "      <td>Manali</td>\n",
       "      <td>24-10-2019</td>\n",
       "      <td>Not mentioned</td>\n",
       "      <td>Mumbai</td>\n",
       "      <td>Not included</td>\n",
       "      <td>NaN</td>\n",
       "      <td>Not applicable</td>\n",
       "      <td>12045</td>\n",
       "      <td>6022.5</td>\n",
       "      <td>Vashishth Kund | Hadimba Temple | Tibetan Mon...</td>\n",
       "      <td>This cancellation policy is applicable for boo...</td>\n",
       "      <td>3</td>\n",
       "    </tr>\n",
       "    <tr>\n",
       "      <th>3</th>\n",
       "      <td>Stunning Kashmir Holiday</td>\n",
       "      <td>https://holidayz.makemytrip.com/holidays/india...</td>\n",
       "      <td>Luxury</td>\n",
       "      <td>Makemytrip</td>\n",
       "      <td>Gulmarg|Pahalgam|Srinagar</td>\n",
       "      <td>1N Gulmarg . 2N Pahalgam . 2N Srinagar</td>\n",
       "      <td>Gulmarg|Pahalgam|Srinagar</td>\n",
       "      <td>26-10-2019</td>\n",
       "      <td>Alpine Ridge:3.4|Hotel Hilltop:3.6|The Pride I...</td>\n",
       "      <td>New Delhi</td>\n",
       "      <td>IndiGo|IndiGo</td>\n",
       "      <td>NaN</td>\n",
       "      <td>06 : 30-09 : 10|12 : 45-14 : 20</td>\n",
       "      <td>31933</td>\n",
       "      <td>15966.5</td>\n",
       "      <td>Gondola Point | Avantipura Ruins | Mughal Gar...</td>\n",
       "      <td>Cancellation any time after making the 1st pay...</td>\n",
       "      <td>5</td>\n",
       "    </tr>\n",
       "    <tr>\n",
       "      <th>4</th>\n",
       "      <td>Best of Holiday in Himachal from Chandigarh</td>\n",
       "      <td>https://holidayz.makemytrip.com/holidays/india...</td>\n",
       "      <td>Luxury</td>\n",
       "      <td>Makemytrip</td>\n",
       "      <td>Shimla|Manali|Dharamshala|Dalhousie|Chandigarh</td>\n",
       "      <td>2N Shimla . 3N Manali . 2N Dharamshala . 2N Da...</td>\n",
       "      <td>Shimla|Manali|Dharamshala|Dalhousie|Chandigarh</td>\n",
       "      <td>13-10-2019</td>\n",
       "      <td>Not mentioned</td>\n",
       "      <td>Mumbai</td>\n",
       "      <td>Not included</td>\n",
       "      <td>NaN</td>\n",
       "      <td>Not applicable</td>\n",
       "      <td>35725</td>\n",
       "      <td>17862.5</td>\n",
       "      <td>Pinjore Gardens | Mall road | Kufri | Indira ...</td>\n",
       "      <td>Cancellation any time after making the 1st pay...</td>\n",
       "      <td>10</td>\n",
       "    </tr>\n",
       "  </tbody>\n",
       "</table>\n",
       "</div>"
      ],
      "text/plain": [
       "                                        Package Name  \\\n",
       "0       A Grand Week in North East - Lachung Special   \n",
       "1  A Relaxing holiday to Kerala - Free Speed Boat...   \n",
       "2  Experiential Manali from Chandigarh (Candid Ph...   \n",
       "3                           Stunning Kashmir Holiday   \n",
       "4        Best of Holiday in Himachal from Chandigarh   \n",
       "\n",
       "                                            Page Url Package Type     Company  \\\n",
       "0  https://holidayz.makemytrip.com/holidays/india...       Budget  Makemytrip   \n",
       "1  https://holidayz.makemytrip.com/holidays/india...       Deluxe  Makemytrip   \n",
       "2  https://holidayz.makemytrip.com/holidays/india...       Luxury  Makemytrip   \n",
       "3  https://holidayz.makemytrip.com/holidays/india...       Luxury  Makemytrip   \n",
       "4  https://holidayz.makemytrip.com/holidays/india...       Luxury  Makemytrip   \n",
       "\n",
       "                                         Destination  \\\n",
       "0                 Gangtok|Lachung|Gangtok|Darjeeling   \n",
       "1  Cochin|Munnar|Thekkady|Allepey|Kovalam and Poovar   \n",
       "2                                             Manali   \n",
       "3                          Gulmarg|Pahalgam|Srinagar   \n",
       "4     Shimla|Manali|Dharamshala|Dalhousie|Chandigarh   \n",
       "\n",
       "                                           Itinerary  \\\n",
       "0  2N Gangtok . 2N Lachung . 1N Gangtok . 2N Darj...   \n",
       "1  1N Cochin . 2N Munnar . 1N Thekkady . 1N Allep...   \n",
       "2                                          3N Manali   \n",
       "3             1N Gulmarg . 2N Pahalgam . 2N Srinagar   \n",
       "4  2N Shimla . 3N Manali . 2N Dharamshala . 2N Da...   \n",
       "\n",
       "                                      Places Covered Travel Date  \\\n",
       "0                 Gangtok|Lachung|Gangtok|Darjeeling  02-10-2019   \n",
       "1  Cochin|Munnar|Thekkady|Allepey|Kovalam and Poovar  02-10-2019   \n",
       "2                                             Manali  24-10-2019   \n",
       "3                          Gulmarg|Pahalgam|Srinagar  26-10-2019   \n",
       "4     Shimla|Manali|Dharamshala|Dalhousie|Chandigarh  13-10-2019   \n",
       "\n",
       "                                       Hotel Details Start City  \\\n",
       "0  Lemon Tree Hotel  Gangtok:4.2|Summit Alpine Re...  New Delhi   \n",
       "1  Quality Airport Hotel:4.1|Hotel Hillview, Munn...     Mumbai   \n",
       "2                                      Not mentioned     Mumbai   \n",
       "3  Alpine Ridge:3.4|Hotel Hilltop:3.6|The Pride I...  New Delhi   \n",
       "4                                      Not mentioned     Mumbai   \n",
       "\n",
       "           Airline  Flight Stops       Onwards Return Flight Time  \\\n",
       "0           IndiGo           NaN                  14 : 00-16 : 05   \n",
       "1  Spicejet|IndiGo           NaN  15 : 45-17 : 45|10 : 50-13 : 00   \n",
       "2     Not included           NaN                   Not applicable   \n",
       "3    IndiGo|IndiGo           NaN  06 : 30-09 : 10|12 : 45-14 : 20   \n",
       "4     Not included           NaN                   Not applicable   \n",
       "\n",
       "   Price Per Two Persons  Per Person Price  \\\n",
       "0                  71350           35675.0   \n",
       "1                  32864           16432.0   \n",
       "2                  12045            6022.5   \n",
       "3                  31933           15966.5   \n",
       "4                  35725           17862.5   \n",
       "\n",
       "                          Sightseeing Places Covered  \\\n",
       "0   Baba Mandir | MG Road - Walk | Visit to Lake ...   \n",
       "1   Dutch Palace | Jewish Synagogue | St. Francis...   \n",
       "2   Vashishth Kund | Hadimba Temple | Tibetan Mon...   \n",
       "3   Gondola Point | Avantipura Ruins | Mughal Gar...   \n",
       "4   Pinjore Gardens | Mall road | Kufri | Indira ...   \n",
       "\n",
       "                                  Cancellation Rules  Traveling Days  \n",
       "0  Cancellation any time after making the 1st pay...               7  \n",
       "1  Cancellation any time after making the 1st pay...               7  \n",
       "2  This cancellation policy is applicable for boo...               3  \n",
       "3  Cancellation any time after making the 1st pay...               5  \n",
       "4  Cancellation any time after making the 1st pay...              10  "
      ]
     },
     "execution_count": 18,
     "metadata": {},
     "output_type": "execute_result"
    }
   ],
   "source": [
    "df.head()"
   ]
  },
  {
   "cell_type": "code",
   "execution_count": 19,
   "id": "7cd7008f-7ec6-4077-babb-37b74cfd0f2f",
   "metadata": {},
   "outputs": [],
   "source": [
    "# Columns we want to convert if they exist\n",
    "cols_to_cast = [\n",
    "    \"Flight Stops\", \"Meals\", \"Initial Payment For Booking\", \"Date Change Rules\"\n",
    "]\n",
    "\n",
    "# Filter only columns that actually exist in the dataframe\n",
    "existing_cols_to_cast = [col for col in cols_to_cast if col in df.columns]\n",
    "\n",
    "# Convert to object\n",
    "df[existing_cols_to_cast] = df[existing_cols_to_cast].astype('object')\n",
    "\n",
    "# Fill missing values safely only if the column exists\n",
    "fillna_map = {\n",
    "    \"Hotel Details\": \"Not mentioned\",\n",
    "    \"Airline\": \"Not included\",\n",
    "    \"Flight Stops\": \"Not applicable\",\n",
    "    \"Onwards Return Flight Time\": \"Not applicable\",\n",
    "    \"Meals\": \"Not applicable\",\n",
    "    \"Sightseeing Places Covered\": \"Not mentioned\",\n",
    "    \"Initial Payment For Booking\": \"Not mentioned\",\n",
    "    \"Cancellation Rules\": \"Not mentioned\",\n",
    "    \"Date Change Rules\": \"Not mentioned\",\n",
    "}\n",
    "\n",
    "for col, value in fillna_map.items():\n",
    "    if col in df.columns:\n",
    "        df[col] = df[col].fillna(value)\n"
   ]
  },
  {
   "cell_type": "code",
   "execution_count": 20,
   "id": "55971606-c89b-4e5d-8f64-39c74e6ed501",
   "metadata": {},
   "outputs": [
    {
     "data": {
      "text/plain": [
       "Package Name                  0\n",
       "Page Url                      0\n",
       "Package Type                  0\n",
       "Company                       0\n",
       "Destination                   0\n",
       "Itinerary                     0\n",
       "Places Covered                0\n",
       "Travel Date                   0\n",
       "Hotel Details                 0\n",
       "Start City                    0\n",
       "Airline                       0\n",
       "Flight Stops                  0\n",
       "Onwards Return Flight Time    0\n",
       "Price Per Two Persons         0\n",
       "Per Person Price              0\n",
       "Sightseeing Places Covered    0\n",
       "Cancellation Rules            0\n",
       "Traveling Days                0\n",
       "dtype: int64"
      ]
     },
     "execution_count": 20,
     "metadata": {},
     "output_type": "execute_result"
    }
   ],
   "source": [
    "df.isnull().sum()"
   ]
  },
  {
   "cell_type": "code",
   "execution_count": 21,
   "id": "b75858ee-4442-448a-896f-d10b170b7f07",
   "metadata": {},
   "outputs": [
    {
     "data": {
      "text/plain": [
       "(27454, 18)"
      ]
     },
     "execution_count": 21,
     "metadata": {},
     "output_type": "execute_result"
    }
   ],
   "source": [
    "df.shape"
   ]
  },
  {
   "cell_type": "code",
   "execution_count": 22,
   "id": "ea836e7b-ab60-402b-851b-d3bd4146fc61",
   "metadata": {},
   "outputs": [
    {
     "data": {
      "image/png": "[encoded data removed]",
      "text/plain": [
       "<Figure size 1000x600 with 1 Axes>"
      ]
     },
     "metadata": {},
     "output_type": "display_data"
    }
   ],
   "source": [
    "# We'll count how often each destination appears\n",
    "top_dest = df[\"Destination\"].value_counts().head(10)\n",
    "\n",
    "plt.figure(figsize=(10,6))\n",
    "sns.barplot(x=top_dest.values, y=top_dest.index, palette=\"magma\")\n",
    "plt.title(\"Top 10 Most Popular Destinations\")\n",
    "plt.xlabel(\"Number of Packages\")\n",
    "plt.ylabel(\"Destination\")\n",
    "plt.tight_layout()\n",
    "plt.show()\n"
   ]
  },
  {
   "cell_type": "code",
   "execution_count": 23,
   "id": "b6b2ff53-3333-45a2-8ca5-15d60f82198b",
   "metadata": {},
   "outputs": [
    {
     "data": {
      "image/png": "[encoded data removed]",
      "text/plain": [
       "<Figure size 1000x500 with 1 Axes>"
      ]
     },
     "metadata": {},
     "output_type": "display_data"
    }
   ],
   "source": [
    "plt.figure(figsize=(10,5))\n",
    "sns.countplot(data=df, y=\"Start City\", order=df[\"Start City\"].value_counts().index, palette=\"cubehelix\")\n",
    "plt.title(\"Packages by Start City\")\n",
    "plt.xlabel(\"Number of Packages\")\n",
    "plt.tight_layout()\n",
    "plt.show()\n"
   ]
  },
  {
   "cell_type": "code",
   "execution_count": 24,
   "id": "faa451a6-333d-4967-bf02-279f6fb8d916",
   "metadata": {},
   "outputs": [
    {
     "data": {
      "image/png": "[encoded data removed]",
      "text/plain": [
       "<Figure size 800x600 with 2 Axes>"
      ]
     },
     "metadata": {},
     "output_type": "display_data"
    }
   ],
   "source": [
    "# Pick only numeric columns\n",
    "numeric_cols = df.select_dtypes(include=[\"int64\", \"float64\"]).columns\n",
    "\n",
    "plt.figure(figsize=(8,6))\n",
    "sns.heatmap(df[numeric_cols].corr(), annot=True, cmap=\"Blues\")\n",
    "plt.title(\"Correlation Heatmap of Numeric Features\")\n",
    "plt.tight_layout()\n",
    "plt.show()\n"
   ]
  },
  {
   "cell_type": "code",
   "execution_count": 25,
   "id": "d2df5fe1-0f56-49d5-8023-fd343e36ced2",
   "metadata": {},
   "outputs": [
    {
     "data": {
      "text/plain": [
       "(27454, 18)"
      ]
     },
     "execution_count": 25,
     "metadata": {},
     "output_type": "execute_result"
    }
   ],
   "source": [
    "df.shape"
   ]
  },
  {
   "cell_type": "code",
   "execution_count": 26,
   "id": "b12dab8f-b44d-49ed-9f30-302f1c453c2f",
   "metadata": {},
   "outputs": [
    {
     "data": {
      "text/html": [
       "<div>\n",
       "<style scoped>\n",
       "    .dataframe tbody tr th:only-of-type {\n",
       "        vertical-align: middle;\n",
       "    }\n",
       "\n",
       "    .dataframe tbody tr th {\n",
       "        vertical-align: top;\n",
       "    }\n",
       "\n",
       "    .dataframe thead th {\n",
       "        text-align: right;\n",
       "    }\n",
       "</style>\n",
       "<table border=\"1\" class=\"dataframe\">\n",
       "  <thead>\n",
       "    <tr style=\"text-align: right;\">\n",
       "      <th></th>\n",
       "      <th>Package Name</th>\n",
       "      <th>Page Url</th>\n",
       "      <th>Package Type</th>\n",
       "      <th>Company</th>\n",
       "      <th>Destination</th>\n",
       "      <th>Itinerary</th>\n",
       "      <th>Places Covered</th>\n",
       "      <th>Travel Date</th>\n",
       "      <th>Hotel Details</th>\n",
       "      <th>Start City</th>\n",
       "      <th>Airline</th>\n",
       "      <th>Flight Stops</th>\n",
       "      <th>Onwards Return Flight Time</th>\n",
       "      <th>Price Per Two Persons</th>\n",
       "      <th>Per Person Price</th>\n",
       "      <th>Sightseeing Places Covered</th>\n",
       "      <th>Cancellation Rules</th>\n",
       "      <th>Traveling Days</th>\n",
       "    </tr>\n",
       "  </thead>\n",
       "  <tbody>\n",
       "    <tr>\n",
       "      <th>0</th>\n",
       "      <td>A Grand Week in North East - Lachung Special</td>\n",
       "      <td>https://holidayz.makemytrip.com/holidays/india...</td>\n",
       "      <td>Budget</td>\n",
       "      <td>Makemytrip</td>\n",
       "      <td>Gangtok|Lachung|Gangtok|Darjeeling</td>\n",
       "      <td>2N Gangtok . 2N Lachung . 1N Gangtok . 2N Darj...</td>\n",
       "      <td>Gangtok|Lachung|Gangtok|Darjeeling</td>\n",
       "      <td>02-10-2019</td>\n",
       "      <td>Lemon Tree Hotel  Gangtok:4.2|Summit Alpine Re...</td>\n",
       "      <td>New Delhi</td>\n",
       "      <td>IndiGo</td>\n",
       "      <td>Not applicable</td>\n",
       "      <td>14 : 00-16 : 05</td>\n",
       "      <td>71350</td>\n",
       "      <td>35675.0</td>\n",
       "      <td>Baba Mandir | MG Road - Walk | Visit to Lake ...</td>\n",
       "      <td>Cancellation any time after making the 1st pay...</td>\n",
       "      <td>7</td>\n",
       "    </tr>\n",
       "    <tr>\n",
       "      <th>1</th>\n",
       "      <td>A Relaxing holiday to Kerala - Free Speed Boat...</td>\n",
       "      <td>https://holidayz.makemytrip.com/holidays/india...</td>\n",
       "      <td>Deluxe</td>\n",
       "      <td>Makemytrip</td>\n",
       "      <td>Cochin|Munnar|Thekkady|Allepey|Kovalam and Poovar</td>\n",
       "      <td>1N Cochin . 2N Munnar . 1N Thekkady . 1N Allep...</td>\n",
       "      <td>Cochin|Munnar|Thekkady|Allepey|Kovalam and Poovar</td>\n",
       "      <td>02-10-2019</td>\n",
       "      <td>Quality Airport Hotel:4.1|Hotel Hillview, Munn...</td>\n",
       "      <td>Mumbai</td>\n",
       "      <td>Spicejet|IndiGo</td>\n",
       "      <td>Not applicable</td>\n",
       "      <td>15 : 45-17 : 45|10 : 50-13 : 00</td>\n",
       "      <td>32864</td>\n",
       "      <td>16432.0</td>\n",
       "      <td>Dutch Palace | Jewish Synagogue | St. Francis...</td>\n",
       "      <td>Cancellation any time after making the 1st pay...</td>\n",
       "      <td>7</td>\n",
       "    </tr>\n",
       "    <tr>\n",
       "      <th>2</th>\n",
       "      <td>Experiential Manali from Chandigarh (Candid Ph...</td>\n",
       "      <td>https://holidayz.makemytrip.com/holidays/india...</td>\n",
       "      <td>Luxury</td>\n",
       "      <td>Makemytrip</td>\n",
       "      <td>Manali</td>\n",
       "      <td>3N Manali</td>\n",
       "      <td>Manali</td>\n",
       "      <td>24-10-2019</td>\n",
       "      <td>Not mentioned</td>\n",
       "      <td>Mumbai</td>\n",
       "      <td>Not included</td>\n",
       "      <td>Not applicable</td>\n",
       "      <td>Not applicable</td>\n",
       "      <td>12045</td>\n",
       "      <td>6022.5</td>\n",
       "      <td>Vashishth Kund | Hadimba Temple | Tibetan Mon...</td>\n",
       "      <td>This cancellation policy is applicable for boo...</td>\n",
       "      <td>3</td>\n",
       "    </tr>\n",
       "    <tr>\n",
       "      <th>3</th>\n",
       "      <td>Stunning Kashmir Holiday</td>\n",
       "      <td>https://holidayz.makemytrip.com/holidays/india...</td>\n",
       "      <td>Luxury</td>\n",
       "      <td>Makemytrip</td>\n",
       "      <td>Gulmarg|Pahalgam|Srinagar</td>\n",
       "      <td>1N Gulmarg . 2N Pahalgam . 2N Srinagar</td>\n",
       "      <td>Gulmarg|Pahalgam|Srinagar</td>\n",
       "      <td>26-10-2019</td>\n",
       "      <td>Alpine Ridge:3.4|Hotel Hilltop:3.6|The Pride I...</td>\n",
       "      <td>New Delhi</td>\n",
       "      <td>IndiGo|IndiGo</td>\n",
       "      <td>Not applicable</td>\n",
       "      <td>06 : 30-09 : 10|12 : 45-14 : 20</td>\n",
       "      <td>31933</td>\n",
       "      <td>15966.5</td>\n",
       "      <td>Gondola Point | Avantipura Ruins | Mughal Gar...</td>\n",
       "      <td>Cancellation any time after making the 1st pay...</td>\n",
       "      <td>5</td>\n",
       "    </tr>\n",
       "    <tr>\n",
       "      <th>4</th>\n",
       "      <td>Best of Holiday in Himachal from Chandigarh</td>\n",
       "      <td>https://holidayz.makemytrip.com/holidays/india...</td>\n",
       "      <td>Luxury</td>\n",
       "      <td>Makemytrip</td>\n",
       "      <td>Shimla|Manali|Dharamshala|Dalhousie|Chandigarh</td>\n",
       "      <td>2N Shimla . 3N Manali . 2N Dharamshala . 2N Da...</td>\n",
       "      <td>Shimla|Manali|Dharamshala|Dalhousie|Chandigarh</td>\n",
       "      <td>13-10-2019</td>\n",
       "      <td>Not mentioned</td>\n",
       "      <td>Mumbai</td>\n",
       "      <td>Not included</td>\n",
       "      <td>Not applicable</td>\n",
       "      <td>Not applicable</td>\n",
       "      <td>35725</td>\n",
       "      <td>17862.5</td>\n",
       "      <td>Pinjore Gardens | Mall road | Kufri | Indira ...</td>\n",
       "      <td>Cancellation any time after making the 1st pay...</td>\n",
       "      <td>10</td>\n",
       "    </tr>\n",
       "  </tbody>\n",
       "</table>\n",
       "</div>"
      ],
      "text/plain": [
       "                                        Package Name  \\\n",
       "0       A Grand Week in North East - Lachung Special   \n",
       "1  A Relaxing holiday to Kerala - Free Speed Boat...   \n",
       "2  Experiential Manali from Chandigarh (Candid Ph...   \n",
       "3                           Stunning Kashmir Holiday   \n",
       "4        Best of Holiday in Himachal from Chandigarh   \n",
       "\n",
       "                                            Page Url Package Type     Company  \\\n",
       "0  https://holidayz.makemytrip.com/holidays/india...       Budget  Makemytrip   \n",
       "1  https://holidayz.makemytrip.com/holidays/india...       Deluxe  Makemytrip   \n",
       "2  https://holidayz.makemytrip.com/holidays/india...       Luxury  Makemytrip   \n",
       "3  https://holidayz.makemytrip.com/holidays/india...       Luxury  Makemytrip   \n",
       "4  https://holidayz.makemytrip.com/holidays/india...       Luxury  Makemytrip   \n",
       "\n",
       "                                         Destination  \\\n",
       "0                 Gangtok|Lachung|Gangtok|Darjeeling   \n",
       "1  Cochin|Munnar|Thekkady|Allepey|Kovalam and Poovar   \n",
       "2                                             Manali   \n",
       "3                          Gulmarg|Pahalgam|Srinagar   \n",
       "4     Shimla|Manali|Dharamshala|Dalhousie|Chandigarh   \n",
       "\n",
       "                                           Itinerary  \\\n",
       "0  2N Gangtok . 2N Lachung . 1N Gangtok . 2N Darj...   \n",
       "1  1N Cochin . 2N Munnar . 1N Thekkady . 1N Allep...   \n",
       "2                                          3N Manali   \n",
       "3             1N Gulmarg . 2N Pahalgam . 2N Srinagar   \n",
       "4  2N Shimla . 3N Manali . 2N Dharamshala . 2N Da...   \n",
       "\n",
       "                                      Places Covered Travel Date  \\\n",
       "0                 Gangtok|Lachung|Gangtok|Darjeeling  02-10-2019   \n",
       "1  Cochin|Munnar|Thekkady|Allepey|Kovalam and Poovar  02-10-2019   \n",
       "2                                             Manali  24-10-2019   \n",
       "3                          Gulmarg|Pahalgam|Srinagar  26-10-2019   \n",
       "4     Shimla|Manali|Dharamshala|Dalhousie|Chandigarh  13-10-2019   \n",
       "\n",
       "                                       Hotel Details Start City  \\\n",
       "0  Lemon Tree Hotel  Gangtok:4.2|Summit Alpine Re...  New Delhi   \n",
       "1  Quality Airport Hotel:4.1|Hotel Hillview, Munn...     Mumbai   \n",
       "2                                      Not mentioned     Mumbai   \n",
       "3  Alpine Ridge:3.4|Hotel Hilltop:3.6|The Pride I...  New Delhi   \n",
       "4                                      Not mentioned     Mumbai   \n",
       "\n",
       "           Airline    Flight Stops       Onwards Return Flight Time  \\\n",
       "0           IndiGo  Not applicable                  14 : 00-16 : 05   \n",
       "1  Spicejet|IndiGo  Not applicable  15 : 45-17 : 45|10 : 50-13 : 00   \n",
       "2     Not included  Not applicable                   Not applicable   \n",
       "3    IndiGo|IndiGo  Not applicable  06 : 30-09 : 10|12 : 45-14 : 20   \n",
       "4     Not included  Not applicable                   Not applicable   \n",
       "\n",
       "   Price Per Two Persons  Per Person Price  \\\n",
       "0                  71350           35675.0   \n",
       "1                  32864           16432.0   \n",
       "2                  12045            6022.5   \n",
       "3                  31933           15966.5   \n",
       "4                  35725           17862.5   \n",
       "\n",
       "                          Sightseeing Places Covered  \\\n",
       "0   Baba Mandir | MG Road - Walk | Visit to Lake ...   \n",
       "1   Dutch Palace | Jewish Synagogue | St. Francis...   \n",
       "2   Vashishth Kund | Hadimba Temple | Tibetan Mon...   \n",
       "3   Gondola Point | Avantipura Ruins | Mughal Gar...   \n",
       "4   Pinjore Gardens | Mall road | Kufri | Indira ...   \n",
       "\n",
       "                                  Cancellation Rules  Traveling Days  \n",
       "0  Cancellation any time after making the 1st pay...               7  \n",
       "1  Cancellation any time after making the 1st pay...               7  \n",
       "2  This cancellation policy is applicable for boo...               3  \n",
       "3  Cancellation any time after making the 1st pay...               5  \n",
       "4  Cancellation any time after making the 1st pay...              10  "
      ]
     },
     "execution_count": 26,
     "metadata": {},
     "output_type": "execute_result"
    }
   ],
   "source": [
    "df.head()"
   ]
  },
  {
   "cell_type": "code",
   "execution_count": 27,
   "id": "a0bfd18d-0a71-4b85-870f-1f6401fb388f",
   "metadata": {},
   "outputs": [
    {
     "data": {
      "text/plain": [
       "Package Name                  0\n",
       "Page Url                      0\n",
       "Package Type                  0\n",
       "Company                       0\n",
       "Destination                   0\n",
       "Itinerary                     0\n",
       "Places Covered                0\n",
       "Travel Date                   0\n",
       "Hotel Details                 0\n",
       "Start City                    0\n",
       "Airline                       0\n",
       "Flight Stops                  0\n",
       "Onwards Return Flight Time    0\n",
       "Price Per Two Persons         0\n",
       "Per Person Price              0\n",
       "Sightseeing Places Covered    0\n",
       "Cancellation Rules            0\n",
       "Traveling Days                0\n",
       "dtype: int64"
      ]
     },
     "execution_count": 27,
     "metadata": {},
     "output_type": "execute_result"
    }
   ],
   "source": [
    "df.isnull().sum()"
   ]
  },
  {
   "cell_type": "code",
   "execution_count": 28,
   "id": "f6afadf9-582b-4798-a9cf-9bc7d197d239",
   "metadata": {},
   "outputs": [],
   "source": [
    "# If destinations are separated by commas\n",
    "df['Destination List'] = df['Destination'].str.split(',')\n",
    "\n",
    "# Count number of destinations (optional feature)\n",
    "df['Destination Count'] = df['Destination List'].apply(len)\n"
   ]
  },
  {
   "cell_type": "code",
   "execution_count": 29,
   "id": "32d3e320-f6e0-4210-ab43-57cf7a1cfe94",
   "metadata": {},
   "outputs": [],
   "source": [
    "def convert_flight_stops(value):\n",
    "    if pd.isnull(value):\n",
    "        return 0  # or use another default\n",
    "    value = str(value).lower()\n",
    "    if \"non\" in value:\n",
    "        return 0\n",
    "    elif \"1\" in value:\n",
    "        return 1\n",
    "    else:\n",
    "        return 2\n",
    "\n",
    "df['Flight Stops Encoded'] = df['Flight Stops'].apply(convert_flight_stops)\n"
   ]
  },
  {
   "cell_type": "code",
   "execution_count": 30,
   "id": "096a2769-410e-4897-8ead-e5632cb78949",
   "metadata": {},
   "outputs": [
    {
     "data": {
      "text/plain": [
       "Index(['Package Name', 'Page Url', 'Package Type', 'Company', 'Destination',\n",
       "       'Itinerary', 'Places Covered', 'Travel Date', 'Hotel Details',\n",
       "       'Start City', 'Airline', 'Flight Stops', 'Onwards Return Flight Time',\n",
       "       'Price Per Two Persons', 'Per Person Price',\n",
       "       'Sightseeing Places Covered', 'Cancellation Rules', 'Traveling Days',\n",
       "       'Destination List', 'Destination Count', 'Flight Stops Encoded'],\n",
       "      dtype='object')"
      ]
     },
     "execution_count": 30,
     "metadata": {},
     "output_type": "execute_result"
    }
   ],
   "source": [
    "df.columns"
   ]
  },
  {
   "cell_type": "code",
   "execution_count": 31,
   "id": "715fa3a2-bf8d-485d-a7c8-b0b00aeeea4e",
   "metadata": {},
   "outputs": [
    {
     "name": "stdout",
     "output_type": "stream",
     "text": [
      "   Flight Stops Encoded Start City          Airline  \\\n",
      "0                     2  New Delhi           IndiGo   \n",
      "1                     2     Mumbai  Spicejet|IndiGo   \n",
      "2                     2     Mumbai     Not included   \n",
      "3                     2  New Delhi    IndiGo|IndiGo   \n",
      "4                     2     Mumbai     Not included   \n",
      "\n",
      "                                    Destination List  Destination Count  \n",
      "0               [Gangtok|Lachung|Gangtok|Darjeeling]                  1  \n",
      "1  [Cochin|Munnar|Thekkady|Allepey|Kovalam and Po...                  1  \n",
      "2                                           [Manali]                  1  \n",
      "3                        [Gulmarg|Pahalgam|Srinagar]                  1  \n",
      "4   [Shimla|Manali|Dharamshala|Dalhousie|Chandigarh]                  1  \n"
     ]
    }
   ],
   "source": [
    "print(df[['Flight Stops Encoded', 'Start City', 'Airline', 'Destination List', 'Destination Count' ]].head())"
   ]
  },
  {
   "cell_type": "code",
   "execution_count": 32,
   "id": "c96ba7fd-5dfb-41c3-92b4-16fed91d0c42",
   "metadata": {},
   "outputs": [
    {
     "data": {
      "text/plain": [
       "Index(['Package Name', 'Page Url', 'Package Type', 'Company', 'Destination',\n",
       "       'Itinerary', 'Places Covered', 'Travel Date', 'Hotel Details',\n",
       "       'Start City', 'Airline', 'Flight Stops', 'Onwards Return Flight Time',\n",
       "       'Price Per Two Persons', 'Per Person Price',\n",
       "       'Sightseeing Places Covered', 'Cancellation Rules', 'Traveling Days',\n",
       "       'Destination List', 'Destination Count', 'Flight Stops Encoded'],\n",
       "      dtype='object')"
      ]
     },
     "execution_count": 32,
     "metadata": {},
     "output_type": "execute_result"
    }
   ],
   "source": [
    "df.columns"
   ]
  },
  {
   "cell_type": "code",
   "execution_count": 33,
   "id": "82a47bef-322d-457d-b282-4b2d26db784d",
   "metadata": {},
   "outputs": [],
   "source": [
    "df.drop(columns=['Flight Stops', 'Destination'], inplace=True)\n"
   ]
  },
  {
   "cell_type": "code",
   "execution_count": 34,
   "id": "248bf84b-9ed3-4231-a088-9f5d8da6a1b6",
   "metadata": {},
   "outputs": [
    {
     "data": {
      "text/plain": [
       "(27454, 19)"
      ]
     },
     "execution_count": 34,
     "metadata": {},
     "output_type": "execute_result"
    }
   ],
   "source": [
    "df.shape"
   ]
  },
  {
   "cell_type": "code",
   "execution_count": 35,
   "id": "9fc77d77-1141-4f4f-aa57-12d893f5c1bd",
   "metadata": {},
   "outputs": [
    {
     "data": {
      "text/plain": [
       "Package Name                  0\n",
       "Page Url                      0\n",
       "Package Type                  0\n",
       "Company                       0\n",
       "Itinerary                     0\n",
       "Places Covered                0\n",
       "Travel Date                   0\n",
       "Hotel Details                 0\n",
       "Start City                    0\n",
       "Airline                       0\n",
       "Onwards Return Flight Time    0\n",
       "Price Per Two Persons         0\n",
       "Per Person Price              0\n",
       "Sightseeing Places Covered    0\n",
       "Cancellation Rules            0\n",
       "Traveling Days                0\n",
       "Destination List              0\n",
       "Destination Count             0\n",
       "Flight Stops Encoded          0\n",
       "dtype: int64"
      ]
     },
     "execution_count": 35,
     "metadata": {},
     "output_type": "execute_result"
    }
   ],
   "source": [
    "df.isnull().sum()"
   ]
  },
  {
   "cell_type": "code",
   "execution_count": 36,
   "id": "856655e5-74eb-4e71-9b0c-d91d15b129d0",
   "metadata": {},
   "outputs": [],
   "source": [
    "# Convert list-type columns to strings so they can be one-hot encoded\n",
    "df['Destination List'] = df['Destination List'].astype(str)\n"
   ]
  },
  {
   "cell_type": "code",
   "execution_count": 37,
   "id": "777537c5-5a35-4264-b772-c50fb48e0d69",
   "metadata": {},
   "outputs": [
    {
     "data": {
      "text/plain": [
       "(27454, 19)"
      ]
     },
     "execution_count": 37,
     "metadata": {},
     "output_type": "execute_result"
    }
   ],
   "source": [
    "df.shape"
   ]
  },
  {
   "cell_type": "code",
   "execution_count": 38,
   "id": "adba7ad8-a4f0-4a21-aefa-8195d6f951f2",
   "metadata": {},
   "outputs": [
    {
     "name": "stdout",
     "output_type": "stream",
     "text": [
      "✅ Cleaned Columns:\n",
      "Index(['Package Name', 'Page Url', 'Package Type', 'Company', 'Itinerary',\n",
      "       'Places Covered', 'Travel Date', 'Hotel Details', 'Start City',\n",
      "       'Airline', 'Onwards Return Flight Time', 'Price Per Two Persons',\n",
      "       'Per Person Price', 'Sightseeing Places Covered', 'Cancellation Rules',\n",
      "       'Traveling Days', 'Destination List', 'Destination Count',\n",
      "       'Flight Stops Encoded'],\n",
      "      dtype='object')\n",
      "\n",
      "📊 Model Results:\n",
      "✅ RMSE: 191.92\n",
      "✅ R² Score: 0.9997\n"
     ]
    }
   ],
   "source": [
    "import pandas as pd\n",
    "import numpy as np\n",
    "from sklearn.preprocessing import LabelEncoder\n",
    "from sklearn.model_selection import train_test_split\n",
    "from sklearn.ensemble import RandomForestRegressor\n",
    "from sklearn.metrics import mean_squared_error, r2_score\n",
    "\n",
    "# Clean column names: remove extra spaces\n",
    "df.columns = df.columns.str.strip()\n",
    "\n",
    "# Print cleaned columns (optional for debugging)\n",
    "print(\"✅ Cleaned Columns:\")\n",
    "print(df.columns)\n",
    "\n",
    "# Drop rows with missing target\n",
    "df = df.dropna(subset=['Per Person Price'])\n",
    "\n",
    "# Fill remaining missing values\n",
    "df = df.fillna('Unknown')\n",
    "\n",
    "# Identify categorical columns\n",
    "categorical_cols = df.select_dtypes(include='object').columns.tolist()\n",
    "\n",
    "# Apply Label Encoding to categorical columns\n",
    "df_encoded = df.copy()\n",
    "le = LabelEncoder()\n",
    "for col in categorical_cols:\n",
    "    df_encoded[col] = le.fit_transform(df_encoded[col].astype(str))\n",
    "\n",
    "# Features and target\n",
    "X = df_encoded.drop('Per Person Price', axis=1)\n",
    "y = df_encoded['Per Person Price']\n",
    "\n",
    "# Train-test split\n",
    "X_train, X_test, y_train, y_test = train_test_split(X, y, test_size=0.2, random_state=42)\n",
    "\n",
    "# Model training\n",
    "model = RandomForestRegressor(random_state=42)\n",
    "model.fit(X_train, y_train)\n",
    "\n",
    "# Predictions\n",
    "y_pred = model.predict(X_test)\n",
    "\n",
    "# Evaluation\n",
    "rmse = np.sqrt(mean_squared_error(y_test, y_pred))\n",
    "r2 = r2_score(y_test, y_pred)\n",
    "\n",
    "print(\"\\n📊 Model Results:\")\n",
    "print(f\"✅ RMSE: {rmse:.2f}\")\n",
    "print(f\"✅ R² Score: {r2:.4f}\")\n"
   ]
  },
  {
   "cell_type": "code",
   "execution_count": 39,
   "id": "3e1ed9af-016c-4b34-a395-0db2a1b7cf5b",
   "metadata": {},
   "outputs": [
    {
     "data": {
      "text/plain": [
       "(27454, 19)"
      ]
     },
     "execution_count": 39,
     "metadata": {},
     "output_type": "execute_result"
    }
   ],
   "source": [
    "df.shape"
   ]
  },
  {
   "cell_type": "code",
   "execution_count": 40,
   "id": "17e54d0b-ec88-45e1-952a-1fc33e7d19f8",
   "metadata": {},
   "outputs": [
    {
     "data": {
      "text/plain": [
       "Package Name                  0\n",
       "Page Url                      0\n",
       "Package Type                  0\n",
       "Company                       0\n",
       "Itinerary                     0\n",
       "Places Covered                0\n",
       "Travel Date                   0\n",
       "Hotel Details                 0\n",
       "Start City                    0\n",
       "Airline                       0\n",
       "Onwards Return Flight Time    0\n",
       "Price Per Two Persons         0\n",
       "Per Person Price              0\n",
       "Sightseeing Places Covered    0\n",
       "Cancellation Rules            0\n",
       "Traveling Days                0\n",
       "Destination List              0\n",
       "Destination Count             0\n",
       "Flight Stops Encoded          0\n",
       "dtype: int64"
      ]
     },
     "execution_count": 40,
     "metadata": {},
     "output_type": "execute_result"
    }
   ],
   "source": [
    "df.isnull().sum()\n"
   ]
  },
  {
   "cell_type": "code",
   "execution_count": 41,
   "id": "def903cc-d9d5-4723-b528-e484525e6bb6",
   "metadata": {},
   "outputs": [
    {
     "data": {
      "text/plain": [
       "(27454, 19)"
      ]
     },
     "execution_count": 41,
     "metadata": {},
     "output_type": "execute_result"
    }
   ],
   "source": [
    "df.shape"
   ]
  },
  {
   "cell_type": "code",
   "execution_count": 42,
   "id": "0a6c363b-62fe-4f7d-ba5e-32789daa0640",
   "metadata": {},
   "outputs": [
    {
     "name": "stdout",
     "output_type": "stream",
     "text": [
      "Cleaned file saved successfully!\n",
      "(27454, 19)\n"
     ]
    }
   ],
   "source": [
    "import pandas as pd\n",
    "\n",
    "# Drop any rows with null values\n",
    "df_cleaned = df.dropna()\n",
    "\n",
    "# Save the cleaned dataset\n",
    "df_cleaned.to_csv(\"C:/Users/Sit421/Desktop/final_final_travel.csv\", index=False)\n",
    "\n",
    "print(\"Cleaned file saved successfully!\")\n",
    "print(df_cleaned.shape)\n"
   ]
  },
  {
   "cell_type": "code",
   "execution_count": 43,
   "id": "b3b4f3d6-ba84-4a83-addc-f9ec4f47c6c2",
   "metadata": {},
   "outputs": [
    {
     "name": "stdout",
     "output_type": "stream",
     "text": [
      "Model saved successfully as travel_model.pkl on Desktop!\n"
     ]
    }
   ],
   "source": [
    "import pickle\n",
    "\n",
    "# Assuming your trained model is stored in a variable called 'model'\n",
    "# Replace 'model' with your actual model variable if different (e.g., rf_model, reg, etc.)\n",
    "filename = 'C:/Users/Sit421/Desktop/travel_model.pkl'\n",
    "\n",
    "# Save the model using pickle\n",
    "with open(filename, 'wb') as file:\n",
    "    pickle.dump(model, file)\n",
    "\n",
    "print(\"Model saved successfully as travel_model.pkl on Desktop!\")\n"
   ]
  },
  {
   "cell_type": "code",
   "execution_count": 46,
   "id": "4d2e1e17-139d-45ea-b132-652fd24bfd19",
   "metadata": {},
   "outputs": [
    {
     "name": "stdout",
     "output_type": "stream",
     "text": [
      "🔄 Loading dataset...\n",
      "📊 Encoding features...\n",
      "✂️ Splitting data...\n",
      "🚀 Training model (this should be fast)...\n",
      "💾 Saving model...\n",
      "✅ Fast training complete. Model and columns saved.\n"
     ]
    }
   ],
   "source": [
    "import pandas as pd\n",
    "from sklearn.ensemble import RandomForestRegressor\n",
    "from sklearn.model_selection import train_test_split\n",
    "import pickle\n",
    "\n",
    "print(\"🔄 Loading dataset...\")\n",
    "df = pd.read_csv(\"C:/Users/Sit421/Desktop/travel make my trip/final_final_travel.csv\", on_bad_lines='skip')\n",
    "\n",
    "target = 'Per Person Price'\n",
    "\n",
    "# Drop rows with missing or invalid target\n",
    "df = df.dropna(subset=[target])\n",
    "df = df[df[target].apply(lambda x: str(x).replace('.', '', 1).isdigit())]\n",
    "\n",
    "print(\"📊 Encoding features...\")\n",
    "X = df.drop(columns=[target])\n",
    "y = df[target]\n",
    "X_encoded = pd.get_dummies(X)\n",
    "\n",
    "# Save feature columns\n",
    "model_columns = X_encoded.columns.tolist()\n",
    "\n",
    "print(\"✂️ Splitting data...\")\n",
    "X_train, X_test, y_train, y_test = train_test_split(X_encoded, y, test_size=0.2, random_state=42)\n",
    "\n",
    "print(\"🚀 Training model (this should be fast)...\")\n",
    "model = RandomForestRegressor(n_estimators=20, random_state=42)  # Reduced for speed\n",
    "model.fit(X_train, y_train)\n",
    "\n",
    "print(\"💾 Saving model...\")\n",
    "pickle.dump(model, open(\"travel_model.pkl\", \"wb\"))\n",
    "with open(\"model_columns.pkl\", \"wb\") as f:\n",
    "    pickle.dump(model_columns, f)\n",
    "\n",
    "print(\"✅ Fast training complete. Model and columns saved.\")\n"
   ]
  },
  {
   "cell_type": "code",
   "execution_count": null,
   "id": "46770fa0-32f4-4068-bbb6-bf58b0d0bc96",
   "metadata": {},
   "outputs": [],
   "source": []
  }
 ],
 "metadata": {
  "kernelspec": {
   "display_name": "Python 3 (ipykernel)",
   "language": "python",
   "name": "python3"
  },
  "language_info": {
   "codemirror_mode": {
    "name": "ipython",
    "version": 3
   },
   "file_extension": ".py",
   "mimetype": "text/x-python",
   "name": "python",
   "nbconvert_exporter": "python",
   "pygments_lexer": "ipython3",
   "version": "3.10.0"
  }
 },
 "nbformat": 4,
 "nbformat_minor": 5
}
